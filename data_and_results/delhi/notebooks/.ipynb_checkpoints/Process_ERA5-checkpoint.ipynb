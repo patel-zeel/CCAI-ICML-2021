{
 "cells": [
  {
   "cell_type": "code",
   "execution_count": 1,
   "metadata": {},
   "outputs": [],
   "source": [
    "import pandas as pd\n",
    "import numpy as np\n",
    "import xarray as xr\n",
    "from IPython.display import clear_output\n",
    "from glob import glob"
   ]
  },
  {
   "cell_type": "markdown",
   "metadata": {},
   "source": [
    "### Loading NetCDF (nc) files to pandas DataFrame"
   ]
  },
  {
   "cell_type": "code",
   "execution_count": 2,
   "metadata": {},
   "outputs": [
    {
     "name": "stdout",
     "output_type": "stream",
     "text": [
      "(36189648, 10)\n"
     ]
    },
    {
     "data": {
      "text/html": [
       "<div>\n",
       "<style scoped>\n",
       "    .dataframe tbody tr th:only-of-type {\n",
       "        vertical-align: middle;\n",
       "    }\n",
       "\n",
       "    .dataframe tbody tr th {\n",
       "        vertical-align: top;\n",
       "    }\n",
       "\n",
       "    .dataframe thead th {\n",
       "        text-align: right;\n",
       "    }\n",
       "</style>\n",
       "<table border=\"1\" class=\"dataframe\">\n",
       "  <thead>\n",
       "    <tr style=\"text-align: right;\">\n",
       "      <th></th>\n",
       "      <th>latitude</th>\n",
       "      <th>longitude</th>\n",
       "      <th>time</th>\n",
       "      <th>u10</th>\n",
       "      <th>v10</th>\n",
       "      <th>t2m</th>\n",
       "      <th>lai_hv</th>\n",
       "      <th>lai_lv</th>\n",
       "      <th>sp</th>\n",
       "      <th>tp</th>\n",
       "    </tr>\n",
       "  </thead>\n",
       "  <tbody>\n",
       "    <tr>\n",
       "      <th>0</th>\n",
       "      <td>36.0</td>\n",
       "      <td>68.0</td>\n",
       "      <td>2019-01-01 00:00:00</td>\n",
       "      <td>0.664481</td>\n",
       "      <td>2.946031</td>\n",
       "      <td>271.367676</td>\n",
       "      <td>1.022075</td>\n",
       "      <td>0.571653</td>\n",
       "      <td>80007.523438</td>\n",
       "      <td>0.000000</td>\n",
       "    </tr>\n",
       "    <tr>\n",
       "      <th>1</th>\n",
       "      <td>36.0</td>\n",
       "      <td>68.0</td>\n",
       "      <td>2019-01-01 01:00:00</td>\n",
       "      <td>1.381402</td>\n",
       "      <td>2.377072</td>\n",
       "      <td>272.530304</td>\n",
       "      <td>1.022075</td>\n",
       "      <td>0.571653</td>\n",
       "      <td>80046.031250</td>\n",
       "      <td>0.000012</td>\n",
       "    </tr>\n",
       "  </tbody>\n",
       "</table>\n",
       "</div>"
      ],
      "text/plain": [
       "   latitude  longitude                time       u10       v10         t2m  \\\n",
       "0      36.0       68.0 2019-01-01 00:00:00  0.664481  2.946031  271.367676   \n",
       "1      36.0       68.0 2019-01-01 01:00:00  1.381402  2.377072  272.530304   \n",
       "\n",
       "     lai_hv    lai_lv            sp        tp  \n",
       "0  1.022075  0.571653  80007.523438  0.000000  \n",
       "1  1.022075  0.571653  80046.031250  0.000012  "
      ]
     },
     "execution_count": 2,
     "metadata": {},
     "output_type": "execute_result"
    }
   ],
   "source": [
    "file_name = '1.1.0'\n",
    "data_df = xr.open_dataset('../raw_data/'+file_name+'.nc').to_dataframe().reset_index()\n",
    "print(data_df.shape)\n",
    "data_df.head(2)"
   ]
  },
  {
   "cell_type": "markdown",
   "metadata": {},
   "source": [
    "### Calculate and add magnitude of wind speed"
   ]
  },
  {
   "cell_type": "code",
   "execution_count": 3,
   "metadata": {
    "scrolled": true
   },
   "outputs": [
    {
     "name": "stdout",
     "output_type": "stream",
     "text": [
      "(36189648, 11)\n"
     ]
    },
    {
     "data": {
      "text/html": [
       "<div>\n",
       "<style scoped>\n",
       "    .dataframe tbody tr th:only-of-type {\n",
       "        vertical-align: middle;\n",
       "    }\n",
       "\n",
       "    .dataframe tbody tr th {\n",
       "        vertical-align: top;\n",
       "    }\n",
       "\n",
       "    .dataframe thead th {\n",
       "        text-align: right;\n",
       "    }\n",
       "</style>\n",
       "<table border=\"1\" class=\"dataframe\">\n",
       "  <thead>\n",
       "    <tr style=\"text-align: right;\">\n",
       "      <th></th>\n",
       "      <th>latitude</th>\n",
       "      <th>longitude</th>\n",
       "      <th>time</th>\n",
       "      <th>u10</th>\n",
       "      <th>v10</th>\n",
       "      <th>t2m</th>\n",
       "      <th>lai_hv</th>\n",
       "      <th>lai_lv</th>\n",
       "      <th>sp</th>\n",
       "      <th>tp</th>\n",
       "      <th>wind_magnitude_10m</th>\n",
       "    </tr>\n",
       "  </thead>\n",
       "  <tbody>\n",
       "    <tr>\n",
       "      <th>0</th>\n",
       "      <td>36.0</td>\n",
       "      <td>68.0</td>\n",
       "      <td>2019-01-01 00:00:00</td>\n",
       "      <td>0.664481</td>\n",
       "      <td>2.946031</td>\n",
       "      <td>271.367676</td>\n",
       "      <td>1.022075</td>\n",
       "      <td>0.571653</td>\n",
       "      <td>80007.523438</td>\n",
       "      <td>0.000000</td>\n",
       "      <td>3.020039</td>\n",
       "    </tr>\n",
       "    <tr>\n",
       "      <th>1</th>\n",
       "      <td>36.0</td>\n",
       "      <td>68.0</td>\n",
       "      <td>2019-01-01 01:00:00</td>\n",
       "      <td>1.381402</td>\n",
       "      <td>2.377072</td>\n",
       "      <td>272.530304</td>\n",
       "      <td>1.022075</td>\n",
       "      <td>0.571653</td>\n",
       "      <td>80046.031250</td>\n",
       "      <td>0.000012</td>\n",
       "      <td>2.749317</td>\n",
       "    </tr>\n",
       "  </tbody>\n",
       "</table>\n",
       "</div>"
      ],
      "text/plain": [
       "   latitude  longitude                time       u10       v10         t2m  \\\n",
       "0      36.0       68.0 2019-01-01 00:00:00  0.664481  2.946031  271.367676   \n",
       "1      36.0       68.0 2019-01-01 01:00:00  1.381402  2.377072  272.530304   \n",
       "\n",
       "     lai_hv    lai_lv            sp        tp  wind_magnitude_10m  \n",
       "0  1.022075  0.571653  80007.523438  0.000000            3.020039  \n",
       "1  1.022075  0.571653  80046.031250  0.000012            2.749317  "
      ]
     },
     "execution_count": 3,
     "metadata": {},
     "output_type": "execute_result"
    }
   ],
   "source": [
    "data_df['wind_magnitude_10m'] = np.sqrt(np.square(data_df['u10'].values) + np.square(data_df['v10'].values))\n",
    "print(data_df.shape)\n",
    "data_df.head(2)"
   ]
  },
  {
   "cell_type": "markdown",
   "metadata": {},
   "source": [
    "### Convert time to pandas datetime"
   ]
  },
  {
   "cell_type": "code",
   "execution_count": 4,
   "metadata": {},
   "outputs": [
    {
     "name": "stdout",
     "output_type": "stream",
     "text": [
      "(36189648, 11)\n"
     ]
    },
    {
     "data": {
      "text/html": [
       "<div>\n",
       "<style scoped>\n",
       "    .dataframe tbody tr th:only-of-type {\n",
       "        vertical-align: middle;\n",
       "    }\n",
       "\n",
       "    .dataframe tbody tr th {\n",
       "        vertical-align: top;\n",
       "    }\n",
       "\n",
       "    .dataframe thead th {\n",
       "        text-align: right;\n",
       "    }\n",
       "</style>\n",
       "<table border=\"1\" class=\"dataframe\">\n",
       "  <thead>\n",
       "    <tr style=\"text-align: right;\">\n",
       "      <th></th>\n",
       "      <th>latitude</th>\n",
       "      <th>longitude</th>\n",
       "      <th>time</th>\n",
       "      <th>u10</th>\n",
       "      <th>v10</th>\n",
       "      <th>t2m</th>\n",
       "      <th>lai_hv</th>\n",
       "      <th>lai_lv</th>\n",
       "      <th>sp</th>\n",
       "      <th>tp</th>\n",
       "      <th>wind_magnitude_10m</th>\n",
       "    </tr>\n",
       "  </thead>\n",
       "  <tbody>\n",
       "    <tr>\n",
       "      <th>0</th>\n",
       "      <td>36.0</td>\n",
       "      <td>68.0</td>\n",
       "      <td>2019-01-01 00:00:00</td>\n",
       "      <td>0.664481</td>\n",
       "      <td>2.946031</td>\n",
       "      <td>271.367676</td>\n",
       "      <td>1.022075</td>\n",
       "      <td>0.571653</td>\n",
       "      <td>80007.523438</td>\n",
       "      <td>0.000000</td>\n",
       "      <td>3.020039</td>\n",
       "    </tr>\n",
       "    <tr>\n",
       "      <th>1</th>\n",
       "      <td>36.0</td>\n",
       "      <td>68.0</td>\n",
       "      <td>2019-01-01 01:00:00</td>\n",
       "      <td>1.381402</td>\n",
       "      <td>2.377072</td>\n",
       "      <td>272.530304</td>\n",
       "      <td>1.022075</td>\n",
       "      <td>0.571653</td>\n",
       "      <td>80046.031250</td>\n",
       "      <td>0.000012</td>\n",
       "      <td>2.749317</td>\n",
       "    </tr>\n",
       "  </tbody>\n",
       "</table>\n",
       "</div>"
      ],
      "text/plain": [
       "   latitude  longitude                time       u10       v10         t2m  \\\n",
       "0      36.0       68.0 2019-01-01 00:00:00  0.664481  2.946031  271.367676   \n",
       "1      36.0       68.0 2019-01-01 01:00:00  1.381402  2.377072  272.530304   \n",
       "\n",
       "     lai_hv    lai_lv            sp        tp  wind_magnitude_10m  \n",
       "0  1.022075  0.571653  80007.523438  0.000000            3.020039  \n",
       "1  1.022075  0.571653  80046.031250  0.000012            2.749317  "
      ]
     },
     "execution_count": 4,
     "metadata": {},
     "output_type": "execute_result"
    }
   ],
   "source": [
    "data_df['time'] = pd.to_datetime(data_df['time'])\n",
    "print(data_df.shape)\n",
    "data_df.head(2)"
   ]
  },
  {
   "cell_type": "markdown",
   "metadata": {},
   "source": [
    "### Rename column headers to sensible names"
   ]
  },
  {
   "cell_type": "code",
   "execution_count": 5,
   "metadata": {
    "scrolled": true
   },
   "outputs": [
    {
     "name": "stdout",
     "output_type": "stream",
     "text": [
      "(36189648, 11)\n"
     ]
    },
    {
     "data": {
      "text/html": [
       "<div>\n",
       "<style scoped>\n",
       "    .dataframe tbody tr th:only-of-type {\n",
       "        vertical-align: middle;\n",
       "    }\n",
       "\n",
       "    .dataframe tbody tr th {\n",
       "        vertical-align: top;\n",
       "    }\n",
       "\n",
       "    .dataframe thead th {\n",
       "        text-align: right;\n",
       "    }\n",
       "</style>\n",
       "<table border=\"1\" class=\"dataframe\">\n",
       "  <thead>\n",
       "    <tr style=\"text-align: right;\">\n",
       "      <th></th>\n",
       "      <th>latitude</th>\n",
       "      <th>longitude</th>\n",
       "      <th>time</th>\n",
       "      <th>wind_u_10m</th>\n",
       "      <th>wind_v_10m</th>\n",
       "      <th>temp_2m</th>\n",
       "      <th>lai_hv</th>\n",
       "      <th>lai_lv</th>\n",
       "      <th>surface_pressure</th>\n",
       "      <th>total_precipitation</th>\n",
       "      <th>wind_magnitude_10m</th>\n",
       "    </tr>\n",
       "  </thead>\n",
       "  <tbody>\n",
       "    <tr>\n",
       "      <th>0</th>\n",
       "      <td>36.0</td>\n",
       "      <td>68.0</td>\n",
       "      <td>2019-01-01 00:00:00</td>\n",
       "      <td>0.664481</td>\n",
       "      <td>2.946031</td>\n",
       "      <td>271.367676</td>\n",
       "      <td>1.022075</td>\n",
       "      <td>0.571653</td>\n",
       "      <td>80007.523438</td>\n",
       "      <td>0.000000</td>\n",
       "      <td>3.020039</td>\n",
       "    </tr>\n",
       "    <tr>\n",
       "      <th>1</th>\n",
       "      <td>36.0</td>\n",
       "      <td>68.0</td>\n",
       "      <td>2019-01-01 01:00:00</td>\n",
       "      <td>1.381402</td>\n",
       "      <td>2.377072</td>\n",
       "      <td>272.530304</td>\n",
       "      <td>1.022075</td>\n",
       "      <td>0.571653</td>\n",
       "      <td>80046.031250</td>\n",
       "      <td>0.000012</td>\n",
       "      <td>2.749317</td>\n",
       "    </tr>\n",
       "  </tbody>\n",
       "</table>\n",
       "</div>"
      ],
      "text/plain": [
       "   latitude  longitude                time  wind_u_10m  wind_v_10m  \\\n",
       "0      36.0       68.0 2019-01-01 00:00:00    0.664481    2.946031   \n",
       "1      36.0       68.0 2019-01-01 01:00:00    1.381402    2.377072   \n",
       "\n",
       "      temp_2m    lai_hv    lai_lv  surface_pressure  total_precipitation  \\\n",
       "0  271.367676  1.022075  0.571653      80007.523438             0.000000   \n",
       "1  272.530304  1.022075  0.571653      80046.031250             0.000012   \n",
       "\n",
       "   wind_magnitude_10m  \n",
       "0            3.020039  \n",
       "1            2.749317  "
      ]
     },
     "execution_count": 5,
     "metadata": {},
     "output_type": "execute_result"
    }
   ],
   "source": [
    "data_df = data_df.rename(columns={'u10':'wind_u_10m', 'v10':'wind_v_10m', 'sp':'surface_pressure', \n",
    "                                  'tp':'total_precipitation', 't2m':'temp_2m'})\n",
    "print(data_df.shape)\n",
    "data_df.head(2)"
   ]
  },
  {
   "cell_type": "markdown",
   "metadata": {},
   "source": [
    "### Saving processed file as pickle"
   ]
  },
  {
   "cell_type": "code",
   "execution_count": 6,
   "metadata": {},
   "outputs": [],
   "source": [
    "data_df.to_pickle('../processed_data/weather_v'+file_name+'.pickle')"
   ]
  }
 ],
 "metadata": {
  "kernelspec": {
   "display_name": "Python 3",
   "language": "python",
   "name": "python3"
  },
  "language_info": {
   "codemirror_mode": {
    "name": "ipython",
    "version": 3
   },
   "file_extension": ".py",
   "mimetype": "text/x-python",
   "name": "python",
   "nbconvert_exporter": "python",
   "pygments_lexer": "ipython3",
   "version": "3.8.5"
  }
 },
 "nbformat": 4,
 "nbformat_minor": 4
}
