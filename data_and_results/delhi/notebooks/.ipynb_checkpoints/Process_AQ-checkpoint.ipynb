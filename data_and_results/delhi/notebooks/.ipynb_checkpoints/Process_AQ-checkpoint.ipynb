{
 "cells": [
  {
   "cell_type": "code",
   "execution_count": 1,
   "metadata": {},
   "outputs": [],
   "source": [
    "import pandas as pd\n",
    "import numpy as np\n",
    "from glob import glob\n",
    "from multiprocessing import Pool\n",
    "from time import time\n",
    "from IPython.display import clear_output"
   ]
  },
  {
   "cell_type": "markdown",
   "metadata": {},
   "source": [
    "### Loading Aug and Dec 2019 raw filenames"
   ]
  },
  {
   "cell_type": "code",
   "execution_count": 2,
   "metadata": {},
   "outputs": [
    {
     "data": {
      "text/plain": [
       "8844"
      ]
     },
     "execution_count": 2,
     "metadata": {},
     "output_type": "execute_result"
    }
   ],
   "source": [
    "df_files = []\n",
    "year = '2019'\n",
    "for month in ['08','12']:\n",
    "    for day in [str(d).zfill(2) for d in range(1,32)]:\n",
    "        df_files.extend(glob('../raw_data/realtime-gzipped/'+year+'-'+month+'-'+day+'/*'))\n",
    "len(df_files)"
   ]
  },
  {
   "cell_type": "markdown",
   "metadata": {},
   "source": [
    "### Reading csv files and filter for Delhi and pm25\n",
    "\n",
    "If we first load and then filter, it is too expensive for RAM because of big data. So, filtering step is kept in the loading itself."
   ]
  },
  {
   "cell_type": "code",
   "execution_count": 3,
   "metadata": {
    "scrolled": false
   },
   "outputs": [
    {
     "name": "stdout",
     "output_type": "stream",
     "text": [
      "Finished in 0.81 minutes\n"
     ]
    }
   ],
   "source": [
    "def read_csv(file):\n",
    "    tmp_df = pd.read_json(file, lines=True)\n",
    "    return tmp_df[(tmp_df.city=='Delhi') & (tmp_df.parameter=='pm25')]\n",
    "\n",
    "init = time()\n",
    "workers = Pool()\n",
    "df_list = workers.map(read_csv, df_files)\n",
    "print('Finished in',round((time()-init)/60,2),'minutes')\n",
    "workers.terminate()"
   ]
  },
  {
   "cell_type": "markdown",
   "metadata": {},
   "source": [
    "### Combine as a single DataFrame"
   ]
  },
  {
   "cell_type": "code",
   "execution_count": 4,
   "metadata": {},
   "outputs": [
    {
     "name": "stdout",
     "output_type": "stream",
     "text": [
      "(157052, 13)\n"
     ]
    },
    {
     "data": {
      "text/html": [
       "<div>\n",
       "<style scoped>\n",
       "    .dataframe tbody tr th:only-of-type {\n",
       "        vertical-align: middle;\n",
       "    }\n",
       "\n",
       "    .dataframe tbody tr th {\n",
       "        vertical-align: top;\n",
       "    }\n",
       "\n",
       "    .dataframe thead th {\n",
       "        text-align: right;\n",
       "    }\n",
       "</style>\n",
       "<table border=\"1\" class=\"dataframe\">\n",
       "  <thead>\n",
       "    <tr style=\"text-align: right;\">\n",
       "      <th></th>\n",
       "      <th>date</th>\n",
       "      <th>parameter</th>\n",
       "      <th>value</th>\n",
       "      <th>unit</th>\n",
       "      <th>averagingPeriod</th>\n",
       "      <th>location</th>\n",
       "      <th>city</th>\n",
       "      <th>country</th>\n",
       "      <th>coordinates</th>\n",
       "      <th>attribution</th>\n",
       "      <th>sourceName</th>\n",
       "      <th>sourceType</th>\n",
       "      <th>mobile</th>\n",
       "    </tr>\n",
       "  </thead>\n",
       "  <tbody>\n",
       "    <tr>\n",
       "      <th>140</th>\n",
       "      <td>{'utc': '2019-08-01T17:45:00.000Z', 'local': '...</td>\n",
       "      <td>pm25</td>\n",
       "      <td>37.00</td>\n",
       "      <td>µg/m³</td>\n",
       "      <td>{'unit': 'hours', 'value': 0.25}</td>\n",
       "      <td>ITO, Delhi - CPCB</td>\n",
       "      <td>Delhi</td>\n",
       "      <td>IN</td>\n",
       "      <td>{'latitude': 28.6316945, 'longitude': 77.2494387}</td>\n",
       "      <td>[{'name': 'Central Pollution Control Board', '...</td>\n",
       "      <td>caaqm</td>\n",
       "      <td>government</td>\n",
       "      <td>False</td>\n",
       "    </tr>\n",
       "    <tr>\n",
       "      <th>170</th>\n",
       "      <td>{'utc': '2019-08-01T17:45:00.000Z', 'local': '...</td>\n",
       "      <td>pm25</td>\n",
       "      <td>59.39</td>\n",
       "      <td>µg/m³</td>\n",
       "      <td>{'unit': 'hours', 'value': 0.25}</td>\n",
       "      <td>NSIT Dwarka, Delhi - CPCB</td>\n",
       "      <td>Delhi</td>\n",
       "      <td>IN</td>\n",
       "      <td>{'latitude': 28.60909, 'longitude': 77.0325413}</td>\n",
       "      <td>[{'name': 'Central Pollution Control Board', '...</td>\n",
       "      <td>caaqm</td>\n",
       "      <td>government</td>\n",
       "      <td>False</td>\n",
       "    </tr>\n",
       "  </tbody>\n",
       "</table>\n",
       "</div>"
      ],
      "text/plain": [
       "                                                  date parameter  value  \\\n",
       "140  {'utc': '2019-08-01T17:45:00.000Z', 'local': '...      pm25  37.00   \n",
       "170  {'utc': '2019-08-01T17:45:00.000Z', 'local': '...      pm25  59.39   \n",
       "\n",
       "      unit                   averagingPeriod                   location  \\\n",
       "140  µg/m³  {'unit': 'hours', 'value': 0.25}          ITO, Delhi - CPCB   \n",
       "170  µg/m³  {'unit': 'hours', 'value': 0.25}  NSIT Dwarka, Delhi - CPCB   \n",
       "\n",
       "      city country                                        coordinates  \\\n",
       "140  Delhi      IN  {'latitude': 28.6316945, 'longitude': 77.2494387}   \n",
       "170  Delhi      IN    {'latitude': 28.60909, 'longitude': 77.0325413}   \n",
       "\n",
       "                                           attribution sourceName  sourceType  \\\n",
       "140  [{'name': 'Central Pollution Control Board', '...      caaqm  government   \n",
       "170  [{'name': 'Central Pollution Control Board', '...      caaqm  government   \n",
       "\n",
       "     mobile  \n",
       "140   False  \n",
       "170   False  "
      ]
     },
     "execution_count": 4,
     "metadata": {},
     "output_type": "execute_result"
    }
   ],
   "source": [
    "data_df = pd.concat(df_list)\n",
    "print(data_df.shape)\n",
    "data_df.head(2)"
   ]
  },
  {
   "cell_type": "markdown",
   "metadata": {},
   "source": [
    "### Saving time and coordinates correctly"
   ]
  },
  {
   "cell_type": "code",
   "execution_count": 5,
   "metadata": {
    "scrolled": true
   },
   "outputs": [
    {
     "data": {
      "text/html": [
       "<div>\n",
       "<style scoped>\n",
       "    .dataframe tbody tr th:only-of-type {\n",
       "        vertical-align: middle;\n",
       "    }\n",
       "\n",
       "    .dataframe tbody tr th {\n",
       "        vertical-align: top;\n",
       "    }\n",
       "\n",
       "    .dataframe thead th {\n",
       "        text-align: right;\n",
       "    }\n",
       "</style>\n",
       "<table border=\"1\" class=\"dataframe\">\n",
       "  <thead>\n",
       "    <tr style=\"text-align: right;\">\n",
       "      <th></th>\n",
       "      <th>date</th>\n",
       "      <th>parameter</th>\n",
       "      <th>value</th>\n",
       "      <th>unit</th>\n",
       "      <th>averagingPeriod</th>\n",
       "      <th>location</th>\n",
       "      <th>city</th>\n",
       "      <th>country</th>\n",
       "      <th>coordinates</th>\n",
       "      <th>attribution</th>\n",
       "      <th>sourceName</th>\n",
       "      <th>sourceType</th>\n",
       "      <th>mobile</th>\n",
       "      <th>time</th>\n",
       "      <th>latitude</th>\n",
       "      <th>longitude</th>\n",
       "      <th>pm25</th>\n",
       "    </tr>\n",
       "  </thead>\n",
       "  <tbody>\n",
       "    <tr>\n",
       "      <th>140</th>\n",
       "      <td>{'utc': '2019-08-01T17:45:00.000Z', 'local': '...</td>\n",
       "      <td>pm25</td>\n",
       "      <td>37.00</td>\n",
       "      <td>µg/m³</td>\n",
       "      <td>{'unit': 'hours', 'value': 0.25}</td>\n",
       "      <td>ITO, Delhi - CPCB</td>\n",
       "      <td>Delhi</td>\n",
       "      <td>IN</td>\n",
       "      <td>{'latitude': 28.6316945, 'longitude': 77.2494387}</td>\n",
       "      <td>[{'name': 'Central Pollution Control Board', '...</td>\n",
       "      <td>caaqm</td>\n",
       "      <td>government</td>\n",
       "      <td>False</td>\n",
       "      <td>2019-08-01 17:45:00+00:00</td>\n",
       "      <td>28.631694</td>\n",
       "      <td>77.249439</td>\n",
       "      <td>37.00</td>\n",
       "    </tr>\n",
       "    <tr>\n",
       "      <th>170</th>\n",
       "      <td>{'utc': '2019-08-01T17:45:00.000Z', 'local': '...</td>\n",
       "      <td>pm25</td>\n",
       "      <td>59.39</td>\n",
       "      <td>µg/m³</td>\n",
       "      <td>{'unit': 'hours', 'value': 0.25}</td>\n",
       "      <td>NSIT Dwarka, Delhi - CPCB</td>\n",
       "      <td>Delhi</td>\n",
       "      <td>IN</td>\n",
       "      <td>{'latitude': 28.60909, 'longitude': 77.0325413}</td>\n",
       "      <td>[{'name': 'Central Pollution Control Board', '...</td>\n",
       "      <td>caaqm</td>\n",
       "      <td>government</td>\n",
       "      <td>False</td>\n",
       "      <td>2019-08-01 17:45:00+00:00</td>\n",
       "      <td>28.609090</td>\n",
       "      <td>77.032541</td>\n",
       "      <td>59.39</td>\n",
       "    </tr>\n",
       "  </tbody>\n",
       "</table>\n",
       "</div>"
      ],
      "text/plain": [
       "                                                  date parameter  value  \\\n",
       "140  {'utc': '2019-08-01T17:45:00.000Z', 'local': '...      pm25  37.00   \n",
       "170  {'utc': '2019-08-01T17:45:00.000Z', 'local': '...      pm25  59.39   \n",
       "\n",
       "      unit                   averagingPeriod                   location  \\\n",
       "140  µg/m³  {'unit': 'hours', 'value': 0.25}          ITO, Delhi - CPCB   \n",
       "170  µg/m³  {'unit': 'hours', 'value': 0.25}  NSIT Dwarka, Delhi - CPCB   \n",
       "\n",
       "      city country                                        coordinates  \\\n",
       "140  Delhi      IN  {'latitude': 28.6316945, 'longitude': 77.2494387}   \n",
       "170  Delhi      IN    {'latitude': 28.60909, 'longitude': 77.0325413}   \n",
       "\n",
       "                                           attribution sourceName  sourceType  \\\n",
       "140  [{'name': 'Central Pollution Control Board', '...      caaqm  government   \n",
       "170  [{'name': 'Central Pollution Control Board', '...      caaqm  government   \n",
       "\n",
       "     mobile                      time   latitude  longitude   pm25  \n",
       "140   False 2019-08-01 17:45:00+00:00  28.631694  77.249439  37.00  \n",
       "170   False 2019-08-01 17:45:00+00:00  28.609090  77.032541  59.39  "
      ]
     },
     "execution_count": 5,
     "metadata": {},
     "output_type": "execute_result"
    }
   ],
   "source": [
    "data_df['time'] = pd.to_datetime(data_df['date'].apply(lambda x: x['utc']))\n",
    "data_df['latitude'] = data_df.coordinates.apply(lambda x: x['latitude'])\n",
    "data_df['longitude'] = data_df.coordinates.apply(lambda x: x['longitude'])\n",
    "data_df['pm25'] = data_df['value'] # Renaming the variable\n",
    "data_df.head(2)"
   ]
  },
  {
   "cell_type": "markdown",
   "metadata": {},
   "source": [
    "### Dropping unnecessary information"
   ]
  },
  {
   "cell_type": "code",
   "execution_count": 6,
   "metadata": {},
   "outputs": [
    {
     "name": "stdout",
     "output_type": "stream",
     "text": [
      "(157052, 5)\n"
     ]
    },
    {
     "data": {
      "text/html": [
       "<div>\n",
       "<style scoped>\n",
       "    .dataframe tbody tr th:only-of-type {\n",
       "        vertical-align: middle;\n",
       "    }\n",
       "\n",
       "    .dataframe tbody tr th {\n",
       "        vertical-align: top;\n",
       "    }\n",
       "\n",
       "    .dataframe thead th {\n",
       "        text-align: right;\n",
       "    }\n",
       "</style>\n",
       "<table border=\"1\" class=\"dataframe\">\n",
       "  <thead>\n",
       "    <tr style=\"text-align: right;\">\n",
       "      <th></th>\n",
       "      <th>time</th>\n",
       "      <th>location</th>\n",
       "      <th>latitude</th>\n",
       "      <th>longitude</th>\n",
       "      <th>pm25</th>\n",
       "    </tr>\n",
       "  </thead>\n",
       "  <tbody>\n",
       "    <tr>\n",
       "      <th>140</th>\n",
       "      <td>2019-08-01 17:45:00+00:00</td>\n",
       "      <td>ITO, Delhi - CPCB</td>\n",
       "      <td>28.631694</td>\n",
       "      <td>77.249439</td>\n",
       "      <td>37.00</td>\n",
       "    </tr>\n",
       "    <tr>\n",
       "      <th>170</th>\n",
       "      <td>2019-08-01 17:45:00+00:00</td>\n",
       "      <td>NSIT Dwarka, Delhi - CPCB</td>\n",
       "      <td>28.609090</td>\n",
       "      <td>77.032541</td>\n",
       "      <td>59.39</td>\n",
       "    </tr>\n",
       "  </tbody>\n",
       "</table>\n",
       "</div>"
      ],
      "text/plain": [
       "                         time                   location   latitude  \\\n",
       "140 2019-08-01 17:45:00+00:00          ITO, Delhi - CPCB  28.631694   \n",
       "170 2019-08-01 17:45:00+00:00  NSIT Dwarka, Delhi - CPCB  28.609090   \n",
       "\n",
       "     longitude   pm25  \n",
       "140  77.249439  37.00  \n",
       "170  77.032541  59.39  "
      ]
     },
     "execution_count": 6,
     "metadata": {},
     "output_type": "execute_result"
    }
   ],
   "source": [
    "data_df_final = data_df[['time','location','latitude','longitude','pm25']]\n",
    "print(data_df_final.shape)\n",
    "data_df_final.head(2)"
   ]
  },
  {
   "cell_type": "markdown",
   "metadata": {},
   "source": [
    "### Saving processed data"
   ]
  },
  {
   "cell_type": "code",
   "execution_count": 7,
   "metadata": {},
   "outputs": [],
   "source": [
    "data_df_final.to_pickle('../processed_data/aq_v0.1.0.pickle')"
   ]
  }
 ],
 "metadata": {
  "kernelspec": {
   "display_name": "Python 3",
   "language": "python",
   "name": "python3"
  },
  "language_info": {
   "codemirror_mode": {
    "name": "ipython",
    "version": 3
   },
   "file_extension": ".py",
   "mimetype": "text/x-python",
   "name": "python",
   "nbconvert_exporter": "python",
   "pygments_lexer": "ipython3",
   "version": "3.8.5"
  }
 },
 "nbformat": 4,
 "nbformat_minor": 4
}
