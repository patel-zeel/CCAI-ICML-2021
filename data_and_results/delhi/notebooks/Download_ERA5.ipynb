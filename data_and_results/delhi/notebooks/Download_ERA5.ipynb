{
 "cells": [
  {
   "cell_type": "markdown",
   "metadata": {},
   "source": [
    "### Relevant links\n",
    "\n",
    "* [ERA5 reanalysis data](https://cds.climate.copernicus.eu/cdsapp#!/dataset/reanalysis-era5-single-levels?tab=form)"
   ]
  },
  {
   "cell_type": "markdown",
   "metadata": {},
   "source": [
    "### An example request"
   ]
  },
  {
   "cell_type": "code",
   "execution_count": 5,
   "metadata": {},
   "outputs": [],
   "source": [
    "# # !pip install cdsapi\n",
    "# import cdsapi\n",
    "# c = cdsapi.Client()\n",
    "# c.retrieve(\"reanalysis-era5-pressure-levels\",\n",
    "# {\n",
    "# \"variable\": \"temperature\",\n",
    "# \"pressure_level\": \"1000\",\n",
    "# \"product_type\": \"reanalysis\",\n",
    "# \"year\": \"2008\",\n",
    "# \"month\": \"01\",\n",
    "# \"day\": \"01\",\n",
    "# \"time\": \"12:00\",\n",
    "# \"format\": \"grib\"\n",
    "# }, \"download.grib\")"
   ]
  },
  {
   "cell_type": "markdown",
   "metadata": {},
   "source": [
    "### Downloading manually\n",
    "\n",
    "Downloading ERA5 data from [here](https://cds.climate.copernicus.eu/cdsapp#!/dataset/reanalysis-era5-single-levels?tab=form).\n",
    "\n",
    "Manual Requests are saved in ```../ERA5_requests``` folder.\n",
    "\n",
    "Requests made and data available for:\n",
    "\n",
    "* 0.1.0"
   ]
  }
 ],
 "metadata": {
  "kernelspec": {
   "display_name": "Python 3",
   "language": "python",
   "name": "python3"
  },
  "language_info": {
   "codemirror_mode": {
    "name": "ipython",
    "version": 3
   },
   "file_extension": ".py",
   "mimetype": "text/x-python",
   "name": "python",
   "nbconvert_exporter": "python",
   "pygments_lexer": "ipython3",
   "version": "3.8.5"
  }
 },
 "nbformat": 4,
 "nbformat_minor": 4
}
