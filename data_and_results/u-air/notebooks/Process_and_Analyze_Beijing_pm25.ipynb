{
 "cells": [
  {
   "cell_type": "code",
   "execution_count": null,
   "metadata": {},
   "outputs": [],
   "source": [
    "import numpy as np\n",
    "import pandas as pd\n",
    "from IPython.display import clear_output\n",
    "import matplotlib.pyplot as plt\n",
    "from matplotlib import rc\n",
    "from matplotlib.animation import FuncAnimation\n",
    "\n",
    "rc('font', size=16)"
   ]
  },
  {
   "cell_type": "markdown",
   "metadata": {},
   "source": [
    "## Loading dataset"
   ]
  },
  {
   "cell_type": "code",
   "execution_count": null,
   "metadata": {},
   "outputs": [],
   "source": [
    "data_df = pd.read_csv('../raw_data/Air20Quality20Data/Beijing/CrawledData.txt')\n",
    "data_df = data_df.dropna(subset=['PM25_AQI_value']) # Dropping null values on PM2.5\n",
    "\n",
    "station_df = pd.read_csv('../raw_data/Air20Quality20Data/Beijing/Station.txt').set_index('station_id')\n",
    "station_df = station_df.rename(columns={'longtitude':'longitude'}) # Small correction\n",
    "print(data_df.shape)\n",
    "data_df.head(2)"
   ]
  },
  {
   "cell_type": "code",
   "execution_count": null,
   "metadata": {},
   "outputs": [],
   "source": [
    "station_df.head(2)"
   ]
  },
  {
   "cell_type": "markdown",
   "metadata": {},
   "source": [
    "## Data sanity check"
   ]
  },
  {
   "cell_type": "code",
   "execution_count": null,
   "metadata": {},
   "outputs": [],
   "source": [
    "plt.plot(data_df.PM25_AQI_value); # No bad data visually\n",
    "assert np.all(data_df.PM25_AQI_value >= 0) # PM25 can not be negative"
   ]
  },
  {
   "cell_type": "markdown",
   "metadata": {},
   "source": [
    "## Sort by time-stamp"
   ]
  },
  {
   "cell_type": "code",
   "execution_count": null,
   "metadata": {},
   "outputs": [],
   "source": [
    "data_df['time'] = pd.to_datetime(data_df['time'])\n",
    "data_df_sorted = data_df.set_index('time', drop=True).sort_index()\n",
    "data_df_sorted.head(2)"
   ]
  },
  {
   "cell_type": "code",
   "execution_count": null,
   "metadata": {},
   "outputs": [],
   "source": [
    "data_df_sorted.tail(2)"
   ]
  },
  {
   "cell_type": "markdown",
   "metadata": {},
   "source": [
    "## Combine station data with AQ+Met data"
   ]
  },
  {
   "cell_type": "code",
   "execution_count": null,
   "metadata": {
    "scrolled": true
   },
   "outputs": [],
   "source": [
    "for new_col in ['station_name', 'longitude', 'latitude']:\n",
    "    data_df_sorted[new_col] = data_df_sorted['station_id']\n",
    "    data_df_sorted[new_col] = data_df_sorted[new_col].apply(lambda x: station_df.loc[x, new_col])\n",
    "\n",
    "data_df_sorted.head(2)"
   ]
  },
  {
   "cell_type": "markdown",
   "metadata": {},
   "source": [
    "## Plotting station locations"
   ]
  },
  {
   "cell_type": "code",
   "execution_count": null,
   "metadata": {},
   "outputs": [],
   "source": [
    "plt.scatter(station_df.longitude, station_df.latitude);\n",
    "print(station_df.shape)\n",
    "plt.xlabel('Longitude');plt.ylabel('Latitude');"
   ]
  },
  {
   "cell_type": "markdown",
   "metadata": {},
   "source": [
    "## Checking info available per time-stamp"
   ]
  },
  {
   "cell_type": "code",
   "execution_count": null,
   "metadata": {},
   "outputs": [],
   "source": [
    "count_df = pd.DataFrame(index=data_df_sorted.index.unique(), columns=['cnt'])\n",
    "for idx in count_df.index:\n",
    "    count_df.loc[idx, 'cnt'] = len(data_df_sorted.loc[idx])\n",
    "\n",
    "plt.figure(figsize=(15,4))\n",
    "plt.scatter(count_df.index, count_df.cnt);\n",
    "plt.xlabel('time-frame');plt.ylabel('Number of stations');"
   ]
  },
  {
   "cell_type": "markdown",
   "metadata": {},
   "source": [
    "## Finding longest contineous data with 36 stations"
   ]
  },
  {
   "cell_type": "code",
   "execution_count": null,
   "metadata": {},
   "outputs": [],
   "source": [
    "station_c = pd.DataFrame(index=data_df_sorted.index.unique(), columns=['station_count'])\n",
    "for idx in station_c.index:\n",
    "    station_c.loc[idx, 'station_count'] = len(data_df_sorted.loc[idx])\n",
    "station_c.head(2)"
   ]
  },
  {
   "cell_type": "code",
   "execution_count": null,
   "metadata": {},
   "outputs": [],
   "source": [
    "delta = 24*20\n",
    "for i in range(len(station_c)-delta):\n",
    "    try:\n",
    "        if station_c.iloc[i:i+delta]['station_count'].value_counts()[36] == delta:\n",
    "            print('Best start index=', i)\n",
    "            break\n",
    "    except KeyError:\n",
    "        pass\n",
    "\n",
    "best_idx = station_c.index[i:i+delta]\n",
    "plt.figure(figsize=(15,5))\n",
    "plt.scatter(best_idx, np.ones(len(best_idx)));\n",
    "plt.tight_layout();"
   ]
  },
  {
   "cell_type": "markdown",
   "metadata": {},
   "source": [
    "#### Let us choose the first chunk of data from above plot."
   ]
  },
  {
   "cell_type": "code",
   "execution_count": null,
   "metadata": {
    "scrolled": true
   },
   "outputs": [],
   "source": [
    "first_idx = station_c.index[i]\n",
    "best_idxs = station_c[first_idx:'2013-11-25'].index\n",
    "print(\"Number of time-stamps chosen =\", best_idxs.shape)\n",
    "best_idxs"
   ]
  },
  {
   "cell_type": "markdown",
   "metadata": {},
   "source": [
    "## Saving processed dataset"
   ]
  },
  {
   "cell_type": "code",
   "execution_count": null,
   "metadata": {
    "scrolled": true
   },
   "outputs": [],
   "source": [
    "final_df = data_df_sorted.loc[best_idxs]\n",
    "final_df.to_pickle('../processed_data/best36_beijing_pm25.pickle')\n",
    "final_df.head(2)"
   ]
  },
  {
   "cell_type": "markdown",
   "metadata": {},
   "source": [
    "### Visualize trend accross stations"
   ]
  },
  {
   "cell_type": "code",
   "execution_count": null,
   "metadata": {},
   "outputs": [],
   "source": [
    "double_sorted_df = final_df.sort_values(['time','station_id'])\n",
    "# print(double_sorted_df.head(5))\n",
    "fig, ax = plt.subplots(figsize=(10,4))\n",
    "def update(ts):\n",
    "    ax.cla()\n",
    "    tmp_df = double_sorted_df.loc[ts]\n",
    "    ax.plot(tmp_df.PM25_AQI_value.values)\n",
    "    ax.set_ylim(0,500)\n",
    "\n",
    "plt.close()\n",
    "anim = FuncAnimation(fig, update, double_sorted_df.index.unique())\n",
    "rc('animation',html='jshtml',embed_limit=100)\n",
    "anim"
   ]
  }
 ],
 "metadata": {
  "kernelspec": {
   "display_name": "Python 3",
   "language": "python",
   "name": "python3"
  },
  "language_info": {
   "codemirror_mode": {
    "name": "ipython",
    "version": 3
   },
   "file_extension": ".py",
   "mimetype": "text/x-python",
   "name": "python",
   "nbconvert_exporter": "python",
   "pygments_lexer": "ipython3",
   "version": "3.8.5"
  }
 },
 "nbformat": 4,
 "nbformat_minor": 4
}
