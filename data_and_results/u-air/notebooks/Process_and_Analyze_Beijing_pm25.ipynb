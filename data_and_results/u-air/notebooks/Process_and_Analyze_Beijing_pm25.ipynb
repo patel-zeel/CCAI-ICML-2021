{
 "cells": [
  {
   "cell_type": "code",
   "execution_count": 1,
   "metadata": {},
   "outputs": [],
   "source": [
    "import numpy as np\n",
    "import pandas as pd\n",
    "from IPython.display import clear_output\n",
    "import matplotlib.pyplot as plt\n",
    "from matplotlib import rc\n",
    "\n",
    "rc('font', size=16)"
   ]
  },
  {
   "cell_type": "markdown",
   "metadata": {},
   "source": [
    "## Loading dataset"
   ]
  },
  {
   "cell_type": "code",
   "execution_count": 2,
   "metadata": {},
   "outputs": [
    {
     "name": "stdout",
     "output_type": "stream",
     "text": [
      "(167934, 10)\n"
     ]
    },
    {
     "data": {
      "text/html": [
       "<div>\n",
       "<style scoped>\n",
       "    .dataframe tbody tr th:only-of-type {\n",
       "        vertical-align: middle;\n",
       "    }\n",
       "\n",
       "    .dataframe tbody tr th {\n",
       "        vertical-align: top;\n",
       "    }\n",
       "\n",
       "    .dataframe thead th {\n",
       "        text-align: right;\n",
       "    }\n",
       "</style>\n",
       "<table border=\"1\" class=\"dataframe\">\n",
       "  <thead>\n",
       "    <tr style=\"text-align: right;\">\n",
       "      <th></th>\n",
       "      <th>station_id</th>\n",
       "      <th>time</th>\n",
       "      <th>PM25_AQI_value</th>\n",
       "      <th>PM10_AQI_value</th>\n",
       "      <th>NO2_AQI_value</th>\n",
       "      <th>temperature</th>\n",
       "      <th>pressure</th>\n",
       "      <th>humidity</th>\n",
       "      <th>wind</th>\n",
       "      <th>weather</th>\n",
       "    </tr>\n",
       "  </thead>\n",
       "  <tbody>\n",
       "    <tr>\n",
       "      <th>0</th>\n",
       "      <td>1001</td>\n",
       "      <td>2/8/2013 9:00:00 PM</td>\n",
       "      <td>149.0</td>\n",
       "      <td>59.0</td>\n",
       "      <td>16.0</td>\n",
       "      <td>-5.0</td>\n",
       "      <td>1031.0</td>\n",
       "      <td>46.0</td>\n",
       "      <td>4.0</td>\n",
       "      <td>1.0</td>\n",
       "    </tr>\n",
       "    <tr>\n",
       "      <th>1</th>\n",
       "      <td>1001</td>\n",
       "      <td>2/8/2013 10:00:00 PM</td>\n",
       "      <td>159.0</td>\n",
       "      <td>65.0</td>\n",
       "      <td>22.0</td>\n",
       "      <td>-5.0</td>\n",
       "      <td>1030.0</td>\n",
       "      <td>46.0</td>\n",
       "      <td>1.0</td>\n",
       "      <td>1.0</td>\n",
       "    </tr>\n",
       "  </tbody>\n",
       "</table>\n",
       "</div>"
      ],
      "text/plain": [
       "   station_id                  time  PM25_AQI_value  PM10_AQI_value  \\\n",
       "0        1001   2/8/2013 9:00:00 PM           149.0            59.0   \n",
       "1        1001  2/8/2013 10:00:00 PM           159.0            65.0   \n",
       "\n",
       "   NO2_AQI_value  temperature  pressure  humidity  wind  weather  \n",
       "0           16.0         -5.0    1031.0      46.0   4.0      1.0  \n",
       "1           22.0         -5.0    1030.0      46.0   1.0      1.0  "
      ]
     },
     "execution_count": 2,
     "metadata": {},
     "output_type": "execute_result"
    }
   ],
   "source": [
    "data_df = pd.read_csv('../raw_data/Air20Quality20Data/Beijing/CrawledData.txt')\n",
    "data_df = data_df.dropna(subset=['PM25_AQI_value']) # Dropping null values on PM2.5\n",
    "\n",
    "station_df = pd.read_csv('../raw_data/Air20Quality20Data/Beijing/Station.txt').set_index('station_id')\n",
    "station_df = station_df.rename(columns={'longtitude':'longitude'}) # Small correction\n",
    "print(data_df.shape)\n",
    "data_df.head(2)"
   ]
  },
  {
   "cell_type": "code",
   "execution_count": 3,
   "metadata": {},
   "outputs": [
    {
     "data": {
      "text/html": [
       "<div>\n",
       "<style scoped>\n",
       "    .dataframe tbody tr th:only-of-type {\n",
       "        vertical-align: middle;\n",
       "    }\n",
       "\n",
       "    .dataframe tbody tr th {\n",
       "        vertical-align: top;\n",
       "    }\n",
       "\n",
       "    .dataframe thead th {\n",
       "        text-align: right;\n",
       "    }\n",
       "</style>\n",
       "<table border=\"1\" class=\"dataframe\">\n",
       "  <thead>\n",
       "    <tr style=\"text-align: right;\">\n",
       "      <th></th>\n",
       "      <th>station_name</th>\n",
       "      <th>latitude</th>\n",
       "      <th>longitude</th>\n",
       "    </tr>\n",
       "    <tr>\n",
       "      <th>station_id</th>\n",
       "      <th></th>\n",
       "      <th></th>\n",
       "      <th></th>\n",
       "    </tr>\n",
       "  </thead>\n",
       "  <tbody>\n",
       "    <tr>\n",
       "      <th>1001</th>\n",
       "      <td>haidianbeibuxinqu</td>\n",
       "      <td>40.09068</td>\n",
       "      <td>116.173553</td>\n",
       "    </tr>\n",
       "    <tr>\n",
       "      <th>1002</th>\n",
       "      <td>haidianbeijingzhiwuyuan</td>\n",
       "      <td>40.00395</td>\n",
       "      <td>116.205311</td>\n",
       "    </tr>\n",
       "  </tbody>\n",
       "</table>\n",
       "</div>"
      ],
      "text/plain": [
       "                       station_name  latitude   longitude\n",
       "station_id                                               \n",
       "1001              haidianbeibuxinqu  40.09068  116.173553\n",
       "1002        haidianbeijingzhiwuyuan  40.00395  116.205311"
      ]
     },
     "execution_count": 3,
     "metadata": {},
     "output_type": "execute_result"
    }
   ],
   "source": [
    "station_df.head(2)"
   ]
  },
  {
   "cell_type": "markdown",
   "metadata": {},
   "source": [
    "## Data sanity check"
   ]
  },
  {
   "cell_type": "code",
   "execution_count": 4,
   "metadata": {},
   "outputs": [
    {
     "data": {
      "image/png": "[encoded data removed]",
      "text/plain": [
       "<Figure size 432x288 with 1 Axes>"
      ]
     },
     "metadata": {
      "needs_background": "light"
     },
     "output_type": "display_data"
    }
   ],
   "source": [
    "plt.plot(data_df.PM25_AQI_value); # No bad data visually\n",
    "assert np.all(data_df.PM25_AQI_value >= 0) # PM25 can not be negative"
   ]
  },
  {
   "cell_type": "markdown",
   "metadata": {},
   "source": [
    "## Sort by time-stamp"
   ]
  },
  {
   "cell_type": "code",
   "execution_count": 5,
   "metadata": {},
   "outputs": [
    {
     "data": {
      "text/html": [
       "<div>\n",
       "<style scoped>\n",
       "    .dataframe tbody tr th:only-of-type {\n",
       "        vertical-align: middle;\n",
       "    }\n",
       "\n",
       "    .dataframe tbody tr th {\n",
       "        vertical-align: top;\n",
       "    }\n",
       "\n",
       "    .dataframe thead th {\n",
       "        text-align: right;\n",
       "    }\n",
       "</style>\n",
       "<table border=\"1\" class=\"dataframe\">\n",
       "  <thead>\n",
       "    <tr style=\"text-align: right;\">\n",
       "      <th></th>\n",
       "      <th>station_id</th>\n",
       "      <th>PM25_AQI_value</th>\n",
       "      <th>PM10_AQI_value</th>\n",
       "      <th>NO2_AQI_value</th>\n",
       "      <th>temperature</th>\n",
       "      <th>pressure</th>\n",
       "      <th>humidity</th>\n",
       "      <th>wind</th>\n",
       "      <th>weather</th>\n",
       "    </tr>\n",
       "    <tr>\n",
       "      <th>time</th>\n",
       "      <th></th>\n",
       "      <th></th>\n",
       "      <th></th>\n",
       "      <th></th>\n",
       "      <th></th>\n",
       "      <th></th>\n",
       "      <th></th>\n",
       "      <th></th>\n",
       "      <th></th>\n",
       "    </tr>\n",
       "  </thead>\n",
       "  <tbody>\n",
       "    <tr>\n",
       "      <th>2013-02-08 21:00:00</th>\n",
       "      <td>1001</td>\n",
       "      <td>149.0</td>\n",
       "      <td>59.0</td>\n",
       "      <td>16.0</td>\n",
       "      <td>-5.0</td>\n",
       "      <td>1031.0</td>\n",
       "      <td>46.0</td>\n",
       "      <td>4.0</td>\n",
       "      <td>1.0</td>\n",
       "    </tr>\n",
       "    <tr>\n",
       "      <th>2013-02-08 21:00:00</th>\n",
       "      <td>1021</td>\n",
       "      <td>184.0</td>\n",
       "      <td>87.0</td>\n",
       "      <td>48.0</td>\n",
       "      <td>-5.0</td>\n",
       "      <td>1031.0</td>\n",
       "      <td>46.0</td>\n",
       "      <td>4.0</td>\n",
       "      <td>1.0</td>\n",
       "    </tr>\n",
       "  </tbody>\n",
       "</table>\n",
       "</div>"
      ],
      "text/plain": [
       "                     station_id  PM25_AQI_value  PM10_AQI_value  \\\n",
       "time                                                              \n",
       "2013-02-08 21:00:00        1001           149.0            59.0   \n",
       "2013-02-08 21:00:00        1021           184.0            87.0   \n",
       "\n",
       "                     NO2_AQI_value  temperature  pressure  humidity  wind  \\\n",
       "time                                                                        \n",
       "2013-02-08 21:00:00           16.0         -5.0    1031.0      46.0   4.0   \n",
       "2013-02-08 21:00:00           48.0         -5.0    1031.0      46.0   4.0   \n",
       "\n",
       "                     weather  \n",
       "time                          \n",
       "2013-02-08 21:00:00      1.0  \n",
       "2013-02-08 21:00:00      1.0  "
      ]
     },
     "execution_count": 5,
     "metadata": {},
     "output_type": "execute_result"
    }
   ],
   "source": [
    "data_df['time'] = pd.to_datetime(data_df['time'])\n",
    "data_df_sorted = data_df.set_index('time', drop=True).sort_index()\n",
    "data_df_sorted.head(2)"
   ]
  },
  {
   "cell_type": "code",
   "execution_count": 6,
   "metadata": {},
   "outputs": [
    {
     "data": {
      "text/html": [
       "<div>\n",
       "<style scoped>\n",
       "    .dataframe tbody tr th:only-of-type {\n",
       "        vertical-align: middle;\n",
       "    }\n",
       "\n",
       "    .dataframe tbody tr th {\n",
       "        vertical-align: top;\n",
       "    }\n",
       "\n",
       "    .dataframe thead th {\n",
       "        text-align: right;\n",
       "    }\n",
       "</style>\n",
       "<table border=\"1\" class=\"dataframe\">\n",
       "  <thead>\n",
       "    <tr style=\"text-align: right;\">\n",
       "      <th></th>\n",
       "      <th>station_id</th>\n",
       "      <th>PM25_AQI_value</th>\n",
       "      <th>PM10_AQI_value</th>\n",
       "      <th>NO2_AQI_value</th>\n",
       "      <th>temperature</th>\n",
       "      <th>pressure</th>\n",
       "      <th>humidity</th>\n",
       "      <th>wind</th>\n",
       "      <th>weather</th>\n",
       "    </tr>\n",
       "    <tr>\n",
       "      <th>time</th>\n",
       "      <th></th>\n",
       "      <th></th>\n",
       "      <th></th>\n",
       "      <th></th>\n",
       "      <th></th>\n",
       "      <th></th>\n",
       "      <th></th>\n",
       "      <th></th>\n",
       "      <th></th>\n",
       "    </tr>\n",
       "  </thead>\n",
       "  <tbody>\n",
       "    <tr>\n",
       "      <th>2014-02-08 23:07:00</th>\n",
       "      <td>1017</td>\n",
       "      <td>8.0</td>\n",
       "      <td>6.0</td>\n",
       "      <td>9.0</td>\n",
       "      <td>-6.0</td>\n",
       "      <td>1031.0</td>\n",
       "      <td>29.0</td>\n",
       "      <td>11.16</td>\n",
       "      <td>2.0</td>\n",
       "    </tr>\n",
       "    <tr>\n",
       "      <th>2014-02-08 23:07:00</th>\n",
       "      <td>1036</td>\n",
       "      <td>8.0</td>\n",
       "      <td>11.0</td>\n",
       "      <td>10.0</td>\n",
       "      <td>-7.0</td>\n",
       "      <td>1029.0</td>\n",
       "      <td>41.0</td>\n",
       "      <td>20.88</td>\n",
       "      <td>2.0</td>\n",
       "    </tr>\n",
       "  </tbody>\n",
       "</table>\n",
       "</div>"
      ],
      "text/plain": [
       "                     station_id  PM25_AQI_value  PM10_AQI_value  \\\n",
       "time                                                              \n",
       "2014-02-08 23:07:00        1017             8.0             6.0   \n",
       "2014-02-08 23:07:00        1036             8.0            11.0   \n",
       "\n",
       "                     NO2_AQI_value  temperature  pressure  humidity   wind  \\\n",
       "time                                                                         \n",
       "2014-02-08 23:07:00            9.0         -6.0    1031.0      29.0  11.16   \n",
       "2014-02-08 23:07:00           10.0         -7.0    1029.0      41.0  20.88   \n",
       "\n",
       "                     weather  \n",
       "time                          \n",
       "2014-02-08 23:07:00      2.0  \n",
       "2014-02-08 23:07:00      2.0  "
      ]
     },
     "execution_count": 6,
     "metadata": {},
     "output_type": "execute_result"
    }
   ],
   "source": [
    "data_df_sorted.tail(2)"
   ]
  },
  {
   "cell_type": "markdown",
   "metadata": {},
   "source": [
    "## Combine station data with AQ+Met data"
   ]
  },
  {
   "cell_type": "code",
   "execution_count": 7,
   "metadata": {
    "scrolled": true
   },
   "outputs": [
    {
     "data": {
      "text/html": [
       "<div>\n",
       "<style scoped>\n",
       "    .dataframe tbody tr th:only-of-type {\n",
       "        vertical-align: middle;\n",
       "    }\n",
       "\n",
       "    .dataframe tbody tr th {\n",
       "        vertical-align: top;\n",
       "    }\n",
       "\n",
       "    .dataframe thead th {\n",
       "        text-align: right;\n",
       "    }\n",
       "</style>\n",
       "<table border=\"1\" class=\"dataframe\">\n",
       "  <thead>\n",
       "    <tr style=\"text-align: right;\">\n",
       "      <th></th>\n",
       "      <th>station_id</th>\n",
       "      <th>PM25_AQI_value</th>\n",
       "      <th>PM10_AQI_value</th>\n",
       "      <th>NO2_AQI_value</th>\n",
       "      <th>temperature</th>\n",
       "      <th>pressure</th>\n",
       "      <th>humidity</th>\n",
       "      <th>wind</th>\n",
       "      <th>weather</th>\n",
       "      <th>station_name</th>\n",
       "      <th>longitude</th>\n",
       "      <th>latitude</th>\n",
       "    </tr>\n",
       "    <tr>\n",
       "      <th>time</th>\n",
       "      <th></th>\n",
       "      <th></th>\n",
       "      <th></th>\n",
       "      <th></th>\n",
       "      <th></th>\n",
       "      <th></th>\n",
       "      <th></th>\n",
       "      <th></th>\n",
       "      <th></th>\n",
       "      <th></th>\n",
       "      <th></th>\n",
       "      <th></th>\n",
       "    </tr>\n",
       "  </thead>\n",
       "  <tbody>\n",
       "    <tr>\n",
       "      <th>2013-02-08 21:00:00</th>\n",
       "      <td>1001</td>\n",
       "      <td>149.0</td>\n",
       "      <td>59.0</td>\n",
       "      <td>16.0</td>\n",
       "      <td>-5.0</td>\n",
       "      <td>1031.0</td>\n",
       "      <td>46.0</td>\n",
       "      <td>4.0</td>\n",
       "      <td>1.0</td>\n",
       "      <td>haidianbeibuxinqu</td>\n",
       "      <td>116.173553</td>\n",
       "      <td>40.090680</td>\n",
       "    </tr>\n",
       "    <tr>\n",
       "      <th>2013-02-08 21:00:00</th>\n",
       "      <td>1021</td>\n",
       "      <td>184.0</td>\n",
       "      <td>87.0</td>\n",
       "      <td>48.0</td>\n",
       "      <td>-5.0</td>\n",
       "      <td>1031.0</td>\n",
       "      <td>46.0</td>\n",
       "      <td>4.0</td>\n",
       "      <td>1.0</td>\n",
       "      <td>qianmendongdajie</td>\n",
       "      <td>116.395383</td>\n",
       "      <td>39.899136</td>\n",
       "    </tr>\n",
       "  </tbody>\n",
       "</table>\n",
       "</div>"
      ],
      "text/plain": [
       "                     station_id  PM25_AQI_value  PM10_AQI_value  \\\n",
       "time                                                              \n",
       "2013-02-08 21:00:00        1001           149.0            59.0   \n",
       "2013-02-08 21:00:00        1021           184.0            87.0   \n",
       "\n",
       "                     NO2_AQI_value  temperature  pressure  humidity  wind  \\\n",
       "time                                                                        \n",
       "2013-02-08 21:00:00           16.0         -5.0    1031.0      46.0   4.0   \n",
       "2013-02-08 21:00:00           48.0         -5.0    1031.0      46.0   4.0   \n",
       "\n",
       "                     weather       station_name   longitude   latitude  \n",
       "time                                                                    \n",
       "2013-02-08 21:00:00      1.0  haidianbeibuxinqu  116.173553  40.090680  \n",
       "2013-02-08 21:00:00      1.0   qianmendongdajie  116.395383  39.899136  "
      ]
     },
     "execution_count": 7,
     "metadata": {},
     "output_type": "execute_result"
    }
   ],
   "source": [
    "for new_col in ['station_name', 'longitude', 'latitude']:\n",
    "    data_df_sorted[new_col] = data_df_sorted['station_id']\n",
    "    data_df_sorted[new_col] = data_df_sorted[new_col].apply(lambda x: station_df.loc[x, new_col])\n",
    "\n",
    "data_df_sorted.head(2)"
   ]
  },
  {
   "cell_type": "markdown",
   "metadata": {},
   "source": [
    "## Plotting station locations"
   ]
  },
  {
   "cell_type": "code",
   "execution_count": 8,
   "metadata": {},
   "outputs": [
    {
     "name": "stdout",
     "output_type": "stream",
     "text": [
      "(36, 3)\n"
     ]
    },
    {
     "data": {
      "image/png": "[encoded data removed]",
      "text/plain": [
       "<Figure size 432x288 with 1 Axes>"
      ]
     },
     "metadata": {
      "needs_background": "light"
     },
     "output_type": "display_data"
    }
   ],
   "source": [
    "plt.scatter(station_df.longitude, station_df.latitude);\n",
    "print(station_df.shape)\n",
    "plt.xlabel('Longitude');plt.ylabel('Latitude');"
   ]
  },
  {
   "cell_type": "markdown",
   "metadata": {},
   "source": [
    "## Checking info available per time-stamp"
   ]
  },
  {
   "cell_type": "code",
   "execution_count": 9,
   "metadata": {},
   "outputs": [
    {
     "data": {
      "image/png": "[encoded data removed]",
      "text/plain": [
       "<Figure size 1080x288 with 1 Axes>"
      ]
     },
     "metadata": {
      "needs_background": "light"
     },
     "output_type": "display_data"
    }
   ],
   "source": [
    "count_df = pd.DataFrame(index=data_df_sorted.index.unique(), columns=['cnt'])\n",
    "for idx in count_df.index:\n",
    "    count_df.loc[idx, 'cnt'] = len(data_df_sorted.loc[idx])\n",
    "\n",
    "plt.figure(figsize=(15,4))\n",
    "plt.scatter(count_df.index, count_df.cnt);\n",
    "plt.xlabel('time-frame');plt.ylabel('Number of stations');"
   ]
  },
  {
   "cell_type": "markdown",
   "metadata": {},
   "source": [
    "## Finding longest contineous data with 36 stations"
   ]
  },
  {
   "cell_type": "code",
   "execution_count": 10,
   "metadata": {},
   "outputs": [
    {
     "data": {
      "text/html": [
       "<div>\n",
       "<style scoped>\n",
       "    .dataframe tbody tr th:only-of-type {\n",
       "        vertical-align: middle;\n",
       "    }\n",
       "\n",
       "    .dataframe tbody tr th {\n",
       "        vertical-align: top;\n",
       "    }\n",
       "\n",
       "    .dataframe thead th {\n",
       "        text-align: right;\n",
       "    }\n",
       "</style>\n",
       "<table border=\"1\" class=\"dataframe\">\n",
       "  <thead>\n",
       "    <tr style=\"text-align: right;\">\n",
       "      <th></th>\n",
       "      <th>station_count</th>\n",
       "    </tr>\n",
       "    <tr>\n",
       "      <th>time</th>\n",
       "      <th></th>\n",
       "    </tr>\n",
       "  </thead>\n",
       "  <tbody>\n",
       "    <tr>\n",
       "      <th>2013-02-08 21:00:00</th>\n",
       "      <td>22</td>\n",
       "    </tr>\n",
       "    <tr>\n",
       "      <th>2013-02-08 22:00:00</th>\n",
       "      <td>22</td>\n",
       "    </tr>\n",
       "  </tbody>\n",
       "</table>\n",
       "</div>"
      ],
      "text/plain": [
       "                    station_count\n",
       "time                             \n",
       "2013-02-08 21:00:00            22\n",
       "2013-02-08 22:00:00            22"
      ]
     },
     "execution_count": 10,
     "metadata": {},
     "output_type": "execute_result"
    }
   ],
   "source": [
    "station_c = pd.DataFrame(index=data_df_sorted.index.unique(), columns=['station_count'])\n",
    "for idx in station_c.index:\n",
    "    station_c.loc[idx, 'station_count'] = len(data_df_sorted.loc[idx])\n",
    "station_c.head(2)"
   ]
  },
  {
   "cell_type": "code",
   "execution_count": 11,
   "metadata": {},
   "outputs": [
    {
     "name": "stdout",
     "output_type": "stream",
     "text": [
      "Best start index= 9664\n"
     ]
    },
    {
     "data": {
      "image/png": "[encoded data removed]",
      "text/plain": [
       "<Figure size 1080x360 with 1 Axes>"
      ]
     },
     "metadata": {
      "needs_background": "light"
     },
     "output_type": "display_data"
    }
   ],
   "source": [
    "delta = 24*20\n",
    "for i in range(len(station_c)-delta):\n",
    "    try:\n",
    "        if station_c.iloc[i:i+delta]['station_count'].value_counts()[36] == delta:\n",
    "            print('Best start index=', i)\n",
    "            break\n",
    "    except KeyError:\n",
    "        pass\n",
    "\n",
    "best_idx = station_c.index[i:i+delta]\n",
    "plt.figure(figsize=(15,5))\n",
    "plt.scatter(best_idx, np.ones(len(best_idx)));\n",
    "plt.tight_layout();"
   ]
  },
  {
   "cell_type": "markdown",
   "metadata": {},
   "source": [
    "#### Let us choose the first chunk of data from above plot."
   ]
  },
  {
   "cell_type": "code",
   "execution_count": 12,
   "metadata": {
    "scrolled": true
   },
   "outputs": [
    {
     "name": "stdout",
     "output_type": "stream",
     "text": [
      "Number of time-stamps chosen = (277,)\n"
     ]
    },
    {
     "data": {
      "text/plain": [
       "DatetimeIndex(['2013-11-08 14:26:00', '2013-11-08 15:09:00',\n",
       "               '2013-11-08 16:09:00', '2013-11-08 17:11:00',\n",
       "               '2013-11-08 18:09:00', '2013-11-08 19:09:00',\n",
       "               '2013-11-08 20:09:00', '2013-11-08 21:10:00',\n",
       "               '2013-11-08 22:09:00', '2013-11-08 23:10:00',\n",
       "               ...\n",
       "               '2013-11-19 17:10:00', '2013-11-19 18:10:00',\n",
       "               '2013-11-19 19:09:00', '2013-11-19 20:09:00',\n",
       "               '2013-11-19 21:09:00', '2013-11-19 22:09:00',\n",
       "               '2013-11-19 23:10:00', '2013-11-20 00:09:00',\n",
       "               '2013-11-20 01:08:00', '2013-11-20 02:09:00'],\n",
       "              dtype='datetime64[ns]', name='time', length=277, freq=None)"
      ]
     },
     "execution_count": 12,
     "metadata": {},
     "output_type": "execute_result"
    }
   ],
   "source": [
    "first_idx = station_c.index[i]\n",
    "best_idxs = station_c[first_idx:'2013-11-25'].index\n",
    "print(\"Number of time-stamps chosen =\", best_idxs.shape)\n",
    "best_idxs"
   ]
  },
  {
   "cell_type": "markdown",
   "metadata": {},
   "source": [
    "## Saving processed dataset"
   ]
  },
  {
   "cell_type": "code",
   "execution_count": 13,
   "metadata": {},
   "outputs": [
    {
     "data": {
      "text/html": [
       "<div>\n",
       "<style scoped>\n",
       "    .dataframe tbody tr th:only-of-type {\n",
       "        vertical-align: middle;\n",
       "    }\n",
       "\n",
       "    .dataframe tbody tr th {\n",
       "        vertical-align: top;\n",
       "    }\n",
       "\n",
       "    .dataframe thead th {\n",
       "        text-align: right;\n",
       "    }\n",
       "</style>\n",
       "<table border=\"1\" class=\"dataframe\">\n",
       "  <thead>\n",
       "    <tr style=\"text-align: right;\">\n",
       "      <th></th>\n",
       "      <th>station_id</th>\n",
       "      <th>PM25_AQI_value</th>\n",
       "      <th>PM10_AQI_value</th>\n",
       "      <th>NO2_AQI_value</th>\n",
       "      <th>temperature</th>\n",
       "      <th>pressure</th>\n",
       "      <th>humidity</th>\n",
       "      <th>wind</th>\n",
       "      <th>weather</th>\n",
       "      <th>station_name</th>\n",
       "      <th>longitude</th>\n",
       "      <th>latitude</th>\n",
       "    </tr>\n",
       "    <tr>\n",
       "      <th>time</th>\n",
       "      <th></th>\n",
       "      <th></th>\n",
       "      <th></th>\n",
       "      <th></th>\n",
       "      <th></th>\n",
       "      <th></th>\n",
       "      <th></th>\n",
       "      <th></th>\n",
       "      <th></th>\n",
       "      <th></th>\n",
       "      <th></th>\n",
       "      <th></th>\n",
       "    </tr>\n",
       "  </thead>\n",
       "  <tbody>\n",
       "    <tr>\n",
       "      <th>2013-11-08 14:26:00</th>\n",
       "      <td>1004</td>\n",
       "      <td>151.0</td>\n",
       "      <td>93.0</td>\n",
       "      <td>41.0</td>\n",
       "      <td>13.0</td>\n",
       "      <td>1020.0</td>\n",
       "      <td>33.0</td>\n",
       "      <td>2.0</td>\n",
       "      <td>3.0</td>\n",
       "      <td>fengtaiyungang</td>\n",
       "      <td>116.171150</td>\n",
       "      <td>39.815129</td>\n",
       "    </tr>\n",
       "    <tr>\n",
       "      <th>2013-11-08 14:26:00</th>\n",
       "      <td>1018</td>\n",
       "      <td>165.0</td>\n",
       "      <td>90.0</td>\n",
       "      <td>42.0</td>\n",
       "      <td>13.0</td>\n",
       "      <td>1020.0</td>\n",
       "      <td>33.0</td>\n",
       "      <td>2.0</td>\n",
       "      <td>3.0</td>\n",
       "      <td>yizhuangkaifaqu</td>\n",
       "      <td>116.506319</td>\n",
       "      <td>39.794491</td>\n",
       "    </tr>\n",
       "  </tbody>\n",
       "</table>\n",
       "</div>"
      ],
      "text/plain": [
       "                     station_id  PM25_AQI_value  PM10_AQI_value  \\\n",
       "time                                                              \n",
       "2013-11-08 14:26:00        1004           151.0            93.0   \n",
       "2013-11-08 14:26:00        1018           165.0            90.0   \n",
       "\n",
       "                     NO2_AQI_value  temperature  pressure  humidity  wind  \\\n",
       "time                                                                        \n",
       "2013-11-08 14:26:00           41.0         13.0    1020.0      33.0   2.0   \n",
       "2013-11-08 14:26:00           42.0         13.0    1020.0      33.0   2.0   \n",
       "\n",
       "                     weather     station_name   longitude   latitude  \n",
       "time                                                                  \n",
       "2013-11-08 14:26:00      3.0   fengtaiyungang  116.171150  39.815129  \n",
       "2013-11-08 14:26:00      3.0  yizhuangkaifaqu  116.506319  39.794491  "
      ]
     },
     "execution_count": 13,
     "metadata": {},
     "output_type": "execute_result"
    }
   ],
   "source": [
    "final_df = data_df_sorted.loc[best_idxs]\n",
    "final_df.to_pickle('../processed_data/best36_beijing_pm25.pickle')\n",
    "final_df.head(2)"
   ]
  }
 ],
 "metadata": {
  "kernelspec": {
   "display_name": "Python 3",
   "language": "python",
   "name": "python3"
  },
  "language_info": {
   "codemirror_mode": {
    "name": "ipython",
    "version": 3
   },
   "file_extension": ".py",
   "mimetype": "text/x-python",
   "name": "python",
   "nbconvert_exporter": "python",
   "pygments_lexer": "ipython3",
   "version": "3.8.5"
  }
 },
 "nbformat": 4,
 "nbformat_minor": 4
}
