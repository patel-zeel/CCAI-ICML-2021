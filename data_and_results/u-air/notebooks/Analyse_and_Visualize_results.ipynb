{
 "cells": [
  {
   "cell_type": "code",
   "execution_count": 49,
   "metadata": {
    "hideCode": false,
    "hidePrompt": false,
    "slideshow": {
     "slide_type": "slide"
    }
   },
   "outputs": [],
   "source": [
    "import pandas as pd\n",
    "import numpy as np\n",
    "import matplotlib.pyplot as plt\n",
    "\n",
    "from sklearn.metrics import mean_squared_error\n",
    "import seaborn as sns"
   ]
  },
  {
   "cell_type": "markdown",
   "metadata": {
    "hideCode": false,
    "hidePrompt": false,
    "slideshow": {
     "slide_type": "fragment"
    }
   },
   "source": [
    "### Global functions"
   ]
  },
  {
   "cell_type": "code",
   "execution_count": 50,
   "metadata": {
    "hideCode": false,
    "hidePrompt": false,
    "slideshow": {
     "slide_type": "slide"
    }
   },
   "outputs": [],
   "source": [
    "def load_results(path, folds, f_ids, n_test, model_name): # n_test = number of test stations\n",
    "    pred_y = np.zeros((len(folds), len(f_ids), n_test))#*np.nan\n",
    "    test_y = np.zeros((len(folds), len(f_ids), n_test))#*np.nan\n",
    "    for fold_id, fold in enumerate(folds):\n",
    "        for file_id, file in enumerate(f_ids):\n",
    "            try:\n",
    "                pred_y[fold_id, file_id, :] = np.load(path+'results/'+model_name+'/fold_'+fold+'/'+file+'.npy').ravel()\n",
    "                test_y[fold_id, file_id, :] = np.load(path+'data/fold_'+fold+'/test/y/'+file+'.npy').ravel()\n",
    "            except:\n",
    "                pass\n",
    "    return pred_y, test_y\n",
    "\n",
    "def fold_wise_rmse(pred_y, test_y, n_folds): # 2D RMSE per fold\n",
    "    rmse = []\n",
    "    for i in range(n_folds):\n",
    "        tmp = mean_squared_error(test_y[i,:,:].ravel(), pred_y[i,:,:].ravel(), squared=False)\n",
    "#         print('Fold',i,'RMSE:',round(tmp, 3))\n",
    "        rmse.append(tmp)\n",
    "    return rmse\n",
    "        \n",
    "def plot_pred_vs_test(pred_y, test_y, n_folds):\n",
    "    fig, ax = plt.subplots(1, n_folds, sharex=True, sharey=True, figsize=(15,3))\n",
    "    for i in range(n_folds):\n",
    "        ax[i].plot(test_y[i,:,:].ravel(), test_y[i,:,:].ravel())\n",
    "        ax[i].scatter(test_y[i,:,:].ravel(), pred_y[i,:,:].ravel())\n",
    "    ax[0].set_xlabel('Ground truth');\n",
    "    ax[0].set_ylabel('Predicted values');"
   ]
  },
  {
   "cell_type": "markdown",
   "metadata": {
    "hideCode": false,
    "hidePrompt": false
   },
   "source": [
    "# Global config"
   ]
  },
  {
   "cell_type": "code",
   "execution_count": 51,
   "metadata": {
    "hideCode": false,
    "hidePrompt": false
   },
   "outputs": [],
   "source": [
    "f_ids = [str(i).zfill(5) for i in range(277)]\n",
    "folds = [str(i) for i in range(6)]\n",
    "n_test = 6"
   ]
  },
  {
   "cell_type": "markdown",
   "metadata": {
    "hideCode": false,
    "hidePrompt": false
   },
   "source": [
    "## beijing-pm2.5-quadratic interpolated met data"
   ]
  },
  {
   "cell_type": "code",
   "execution_count": 52,
   "metadata": {
    "hideCode": false,
    "hidePrompt": false
   },
   "outputs": [],
   "source": [
    "path = '../production/pm25_beijing_best36/quadratic/'"
   ]
  },
  {
   "cell_type": "markdown",
   "metadata": {
    "hideCode": false,
    "hidePrompt": false
   },
   "source": [
    "### All models"
   ]
  },
  {
   "cell_type": "code",
   "execution_count": 53,
   "metadata": {
    "hideCode": false,
    "hidePrompt": false,
    "scrolled": true
   },
   "outputs": [
    {
     "data": {
      "text/html": [
       "<div>\n",
       "<style scoped>\n",
       "    .dataframe tbody tr th:only-of-type {\n",
       "        vertical-align: middle;\n",
       "    }\n",
       "\n",
       "    .dataframe tbody tr th {\n",
       "        vertical-align: top;\n",
       "    }\n",
       "\n",
       "    .dataframe thead th {\n",
       "        text-align: right;\n",
       "    }\n",
       "</style>\n",
       "<table border=\"1\" class=\"dataframe\">\n",
       "  <thead>\n",
       "    <tr style=\"text-align: right;\">\n",
       "      <th></th>\n",
       "      <th>fold_0</th>\n",
       "      <th>fold_1</th>\n",
       "      <th>fold_2</th>\n",
       "      <th>fold_3</th>\n",
       "      <th>fold_4</th>\n",
       "      <th>fold_5</th>\n",
       "      <th>avg</th>\n",
       "    </tr>\n",
       "  </thead>\n",
       "  <tbody>\n",
       "    <tr>\n",
       "      <th>svr</th>\n",
       "      <td>28.6389</td>\n",
       "      <td>33.5352</td>\n",
       "      <td>34.1864</td>\n",
       "      <td>27.51</td>\n",
       "      <td>30.2856</td>\n",
       "      <td>49.265</td>\n",
       "      <td>33.9035</td>\n",
       "    </tr>\n",
       "    <tr>\n",
       "      <th>gp_rbf</th>\n",
       "      <td>28.4995</td>\n",
       "      <td>29.6142</td>\n",
       "      <td>30.702</td>\n",
       "      <td>26.0626</td>\n",
       "      <td>31.4658</td>\n",
       "      <td>43.7123</td>\n",
       "      <td>31.6761</td>\n",
       "    </tr>\n",
       "    <tr>\n",
       "      <th>gp_m32</th>\n",
       "      <td>28.6542</td>\n",
       "      <td>29.7528</td>\n",
       "      <td>30.8006</td>\n",
       "      <td>25.7725</td>\n",
       "      <td>31.4276</td>\n",
       "      <td>44.0245</td>\n",
       "      <td>31.7387</td>\n",
       "    </tr>\n",
       "    <tr>\n",
       "      <th>gp_m12</th>\n",
       "      <td>29.3242</td>\n",
       "      <td>30.411</td>\n",
       "      <td>31.4944</td>\n",
       "      <td>25.9099</td>\n",
       "      <td>31.7438</td>\n",
       "      <td>44.5068</td>\n",
       "      <td>32.2317</td>\n",
       "    </tr>\n",
       "    <tr>\n",
       "      <th>gp_linear</th>\n",
       "      <td>29.1663</td>\n",
       "      <td>207.539</td>\n",
       "      <td>37.0533</td>\n",
       "      <td>30.0921</td>\n",
       "      <td>33.7853</td>\n",
       "      <td>44.6112</td>\n",
       "      <td>63.7078</td>\n",
       "    </tr>\n",
       "    <tr>\n",
       "      <th>nsgp_rbf</th>\n",
       "      <td>31.9023</td>\n",
       "      <td>32.6972</td>\n",
       "      <td>33.0631</td>\n",
       "      <td>27.3794</td>\n",
       "      <td>34.409</td>\n",
       "      <td>44.5074</td>\n",
       "      <td>33.9931</td>\n",
       "    </tr>\n",
       "    <tr>\n",
       "      <th>adain</th>\n",
       "      <td>33.6661</td>\n",
       "      <td>45.0136</td>\n",
       "      <td>39.8352</td>\n",
       "      <td>32.4324</td>\n",
       "      <td>43.9318</td>\n",
       "      <td>50.753</td>\n",
       "      <td>40.9387</td>\n",
       "    </tr>\n",
       "  </tbody>\n",
       "</table>\n",
       "</div>"
      ],
      "text/plain": [
       "            fold_0   fold_1   fold_2   fold_3   fold_4   fold_5      avg\n",
       "svr        28.6389  33.5352  34.1864    27.51  30.2856   49.265  33.9035\n",
       "gp_rbf     28.4995  29.6142   30.702  26.0626  31.4658  43.7123  31.6761\n",
       "gp_m32     28.6542  29.7528  30.8006  25.7725  31.4276  44.0245  31.7387\n",
       "gp_m12     29.3242   30.411  31.4944  25.9099  31.7438  44.5068  32.2317\n",
       "gp_linear  29.1663  207.539  37.0533  30.0921  33.7853  44.6112  63.7078\n",
       "nsgp_rbf   31.9023  32.6972  33.0631  27.3794   34.409  44.5074  33.9931\n",
       "adain      33.6661  45.0136  39.8352  32.4324  43.9318   50.753  40.9387"
      ]
     },
     "execution_count": 53,
     "metadata": {},
     "output_type": "execute_result"
    }
   ],
   "source": [
    "models = ['svr', 'gp_rbf', 'gp_m32', 'gp_m12', 'gp_linear','nsgp_rbf','adain']\n",
    "res = pd.DataFrame(index=models, columns=['fold_'+str(i) for i in range(len(folds))]+['avg'])\n",
    "for model in models[:-1]:\n",
    "    pred_y, test_y = load_results(path, folds, f_ids, n_test, model)\n",
    "    fold_rmse = fold_wise_rmse(pred_y, test_y, len(folds))\n",
    "    fold_rmse.append(np.mean(fold_rmse))\n",
    "    res.loc[model, :] = fold_rmse\n",
    "\n",
    "# ADAIN\n",
    "for fold in folds:\n",
    "    pred_y = np.load(path+'results/adain/fold_'+fold+'/pred_y.npy')\n",
    "    test_y = np.load(path+'results/adain/fold_'+fold+'/test_y.npy')\n",
    "    res.loc['adain', 'fold_'+fold] = mean_squared_error(test_y.ravel(), pred_y.ravel(), squared=False)\n",
    "res.loc['adain','avg'] = res.loc['adain'].mean()\n",
    "\n",
    "\n",
    "res"
   ]
  }
 ],
 "metadata": {
  "hide_code_all_hidden": false,
  "kernelspec": {
   "display_name": "Python 3",
   "language": "python",
   "name": "python3"
  },
  "language_info": {
   "codemirror_mode": {
    "name": "ipython",
    "version": 3
   },
   "file_extension": ".py",
   "mimetype": "text/x-python",
   "name": "python",
   "nbconvert_exporter": "python",
   "pygments_lexer": "ipython3",
   "version": "3.8.5"
  }
 },
 "nbformat": 4,
 "nbformat_minor": 4
}
