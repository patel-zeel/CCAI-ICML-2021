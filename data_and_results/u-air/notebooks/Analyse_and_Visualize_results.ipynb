{
 "cells": [
  {
   "cell_type": "code",
   "execution_count": 12,
   "metadata": {
    "hideCode": false,
    "hidePrompt": false,
    "slideshow": {
     "slide_type": "slide"
    }
   },
   "outputs": [],
   "source": [
    "import pandas as pd\n",
    "import numpy as np\n",
    "import matplotlib.pyplot as plt\n",
    "\n",
    "from sklearn.metrics import mean_squared_error\n",
    "import seaborn as sns"
   ]
  },
  {
   "cell_type": "markdown",
   "metadata": {
    "hideCode": false,
    "hidePrompt": false,
    "slideshow": {
     "slide_type": "fragment"
    }
   },
   "source": [
    "### Global functions"
   ]
  },
  {
   "cell_type": "code",
   "execution_count": 13,
   "metadata": {
    "hideCode": false,
    "hidePrompt": false,
    "slideshow": {
     "slide_type": "slide"
    }
   },
   "outputs": [],
   "source": [
    "def load_results(path, folds, f_ids, n_test, model_name): # n_test = number of test stations\n",
    "    pred_y = np.zeros((len(folds), len(f_ids), n_test))#*np.nan\n",
    "    test_y = np.zeros((len(folds), len(f_ids), n_test))#*np.nan\n",
    "    for fold_id, fold in enumerate(folds):\n",
    "        for file_id, file in enumerate(f_ids):\n",
    "            try:\n",
    "                pred_y[fold_id, file_id, :] = np.load(path+'results/'+model_name+'/fold_'+fold+'/'+file+'.npy').ravel()\n",
    "                test_y[fold_id, file_id, :] = np.load(path+'data/fold_'+fold+'/test/y/'+file+'.npy').ravel()\n",
    "            except:\n",
    "                pass\n",
    "    return pred_y, test_y\n",
    "\n",
    "def fold_wise_rmse(pred_y, test_y, n_folds): # 2D RMSE per fold\n",
    "    rmse = []\n",
    "    for i in range(n_folds):\n",
    "        tmp = mean_squared_error(test_y[i,:,:].ravel(), pred_y[i,:,:].ravel(), squared=False)\n",
    "#         print('Fold',i,'RMSE:',round(tmp, 3))\n",
    "        rmse.append(tmp)\n",
    "    return rmse\n",
    "        \n",
    "def plot_pred_vs_test(pred_y, test_y, n_folds):\n",
    "    fig, ax = plt.subplots(1, n_folds, sharex=True, sharey=True, figsize=(15,3))\n",
    "    for i in range(n_folds):\n",
    "        ax[i].plot(test_y[i,:,:].ravel(), test_y[i,:,:].ravel())\n",
    "        ax[i].scatter(test_y[i,:,:].ravel(), pred_y[i,:,:].ravel())\n",
    "    ax[0].set_xlabel('Ground truth');\n",
    "    ax[0].set_ylabel('Predicted values');"
   ]
  },
  {
   "cell_type": "markdown",
   "metadata": {
    "hideCode": false,
    "hidePrompt": false
   },
   "source": [
    "# Global config"
   ]
  },
  {
   "cell_type": "code",
   "execution_count": 14,
   "metadata": {
    "hideCode": false,
    "hidePrompt": false
   },
   "outputs": [],
   "source": [
    "f_ids = [str(i).zfill(5) for i in range(277)]\n",
    "folds = [str(i) for i in range(6)]\n",
    "n_test = 6"
   ]
  },
  {
   "cell_type": "markdown",
   "metadata": {
    "hideCode": false,
    "hidePrompt": false
   },
   "source": [
    "## beijing-pm2.5-quadratic interpolated met data"
   ]
  },
  {
   "cell_type": "code",
   "execution_count": 15,
   "metadata": {
    "hideCode": false,
    "hidePrompt": false
   },
   "outputs": [],
   "source": [
    "path = '../production/pm25_beijing_best36/quadratic/'"
   ]
  },
  {
   "cell_type": "markdown",
   "metadata": {
    "hideCode": false,
    "hidePrompt": false
   },
   "source": [
    "### All models"
   ]
  },
  {
   "cell_type": "code",
   "execution_count": 17,
   "metadata": {
    "hideCode": false,
    "hidePrompt": false,
    "scrolled": true
   },
   "outputs": [
    {
     "data": {
      "text/html": [
       "<div>\n",
       "<style scoped>\n",
       "    .dataframe tbody tr th:only-of-type {\n",
       "        vertical-align: middle;\n",
       "    }\n",
       "\n",
       "    .dataframe tbody tr th {\n",
       "        vertical-align: top;\n",
       "    }\n",
       "\n",
       "    .dataframe thead th {\n",
       "        text-align: right;\n",
       "    }\n",
       "</style>\n",
       "<table border=\"1\" class=\"dataframe\">\n",
       "  <thead>\n",
       "    <tr style=\"text-align: right;\">\n",
       "      <th></th>\n",
       "      <th>fold_0</th>\n",
       "      <th>fold_1</th>\n",
       "      <th>fold_2</th>\n",
       "      <th>fold_3</th>\n",
       "      <th>fold_4</th>\n",
       "      <th>fold_5</th>\n",
       "      <th>avg</th>\n",
       "    </tr>\n",
       "  </thead>\n",
       "  <tbody>\n",
       "    <tr>\n",
       "      <th>svr</th>\n",
       "      <td>28.638901</td>\n",
       "      <td>33.535247</td>\n",
       "      <td>34.186379</td>\n",
       "      <td>27.510037</td>\n",
       "      <td>30.285619</td>\n",
       "      <td>49.26495</td>\n",
       "      <td>33.903522</td>\n",
       "    </tr>\n",
       "    <tr>\n",
       "      <th>gp_rbf</th>\n",
       "      <td>28.499524</td>\n",
       "      <td>29.614249</td>\n",
       "      <td>30.701977</td>\n",
       "      <td>26.062649</td>\n",
       "      <td>31.465777</td>\n",
       "      <td>43.712286</td>\n",
       "      <td>31.676077</td>\n",
       "    </tr>\n",
       "    <tr>\n",
       "      <th>gp_m32</th>\n",
       "      <td>28.654237</td>\n",
       "      <td>29.752761</td>\n",
       "      <td>30.800615</td>\n",
       "      <td>25.772486</td>\n",
       "      <td>31.427642</td>\n",
       "      <td>44.024533</td>\n",
       "      <td>31.738712</td>\n",
       "    </tr>\n",
       "    <tr>\n",
       "      <th>gp_m12</th>\n",
       "      <td>29.324178</td>\n",
       "      <td>30.41102</td>\n",
       "      <td>31.494377</td>\n",
       "      <td>25.90989</td>\n",
       "      <td>31.743754</td>\n",
       "      <td>44.506802</td>\n",
       "      <td>32.23167</td>\n",
       "    </tr>\n",
       "    <tr>\n",
       "      <th>gp_linear</th>\n",
       "      <td>29.166274</td>\n",
       "      <td>207.538515</td>\n",
       "      <td>37.053253</td>\n",
       "      <td>30.092086</td>\n",
       "      <td>33.785311</td>\n",
       "      <td>44.611238</td>\n",
       "      <td>63.70778</td>\n",
       "    </tr>\n",
       "    <tr>\n",
       "      <th>nsgp_rbf</th>\n",
       "      <td>31.902326</td>\n",
       "      <td>32.697181</td>\n",
       "      <td>33.063074</td>\n",
       "      <td>27.379413</td>\n",
       "      <td>34.409011</td>\n",
       "      <td>44.507379</td>\n",
       "      <td>33.993064</td>\n",
       "    </tr>\n",
       "    <tr>\n",
       "      <th>adain</th>\n",
       "      <td>38.240125</td>\n",
       "      <td>55.293895</td>\n",
       "      <td>40.554956</td>\n",
       "      <td>39.2224</td>\n",
       "      <td>43.931829</td>\n",
       "      <td>50.753019</td>\n",
       "      <td>44.666037</td>\n",
       "    </tr>\n",
       "  </tbody>\n",
       "</table>\n",
       "</div>"
      ],
      "text/plain": [
       "              fold_0      fold_1     fold_2     fold_3     fold_4     fold_5  \\\n",
       "svr        28.638901   33.535247  34.186379  27.510037  30.285619   49.26495   \n",
       "gp_rbf     28.499524   29.614249  30.701977  26.062649  31.465777  43.712286   \n",
       "gp_m32     28.654237   29.752761  30.800615  25.772486  31.427642  44.024533   \n",
       "gp_m12     29.324178    30.41102  31.494377   25.90989  31.743754  44.506802   \n",
       "gp_linear  29.166274  207.538515  37.053253  30.092086  33.785311  44.611238   \n",
       "nsgp_rbf   31.902326   32.697181  33.063074  27.379413  34.409011  44.507379   \n",
       "adain      38.240125   55.293895  40.554956    39.2224  43.931829  50.753019   \n",
       "\n",
       "                 avg  \n",
       "svr        33.903522  \n",
       "gp_rbf     31.676077  \n",
       "gp_m32     31.738712  \n",
       "gp_m12      32.23167  \n",
       "gp_linear   63.70778  \n",
       "nsgp_rbf   33.993064  \n",
       "adain      44.666037  "
      ]
     },
     "execution_count": 17,
     "metadata": {},
     "output_type": "execute_result"
    }
   ],
   "source": [
    "models = ['svr', 'gp_rbf', 'gp_m32', 'gp_m12', 'gp_linear','nsgp_rbf','adain']\n",
    "res = pd.DataFrame(index=models, columns=['fold_'+str(i) for i in range(len(folds))]+['avg'])\n",
    "for model in models[:-1]:\n",
    "    pred_y, test_y = load_results(path, folds, f_ids, n_test, model)\n",
    "    fold_rmse = fold_wise_rmse(pred_y, test_y, len(folds))\n",
    "    fold_rmse.append(np.mean(fold_rmse))\n",
    "    res.loc[model, :] = fold_rmse\n",
    "\n",
    "# ADAIN\n",
    "for fold in folds:\n",
    "    pred_y = np.load(path+'results/adain/fold_'+fold+'/pred_y.npy')\n",
    "    test_y = np.load(path+'results/adain/fold_'+fold+'/test_y.npy')\n",
    "    res.loc['adain', 'fold_'+fold] = mean_squared_error(test_y.ravel(), pred_y.ravel(), squared=False)\n",
    "res.loc['adain','avg'] = res.loc['adain'].mean()\n",
    "\n",
    "\n",
    "res"
   ]
  }
 ],
 "metadata": {
  "hide_code_all_hidden": false,
  "kernelspec": {
   "display_name": "Python 3",
   "language": "python",
   "name": "python3"
  },
  "language_info": {
   "codemirror_mode": {
    "name": "ipython",
    "version": 3
   },
   "file_extension": ".py",
   "mimetype": "text/x-python",
   "name": "python",
   "nbconvert_exporter": "python",
   "pygments_lexer": "ipython3",
   "version": "3.8.8"
  }
 },
 "nbformat": 4,
 "nbformat_minor": 4
}
