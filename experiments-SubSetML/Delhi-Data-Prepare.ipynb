{
 "cells": [
  {
   "cell_type": "code",
   "execution_count": 1,
   "id": "41fee454",
   "metadata": {},
   "outputs": [],
   "source": [
    "import pandas as pd\n",
    "import numpy as np\n",
    "from time import time\n",
    "import matplotlib.pyplot as plt\n",
    "from matplotlib import rc\n",
    "from scipy.spatial.distance import cdist\n",
    "import GPy\n",
    "from polire.interpolate import Idw\n",
    "\n",
    "rc('font', size=16)"
   ]
  },
  {
   "cell_type": "code",
   "execution_count": 12,
   "id": "ecbebd7d",
   "metadata": {},
   "outputs": [],
   "source": [
    "data = pd.read_pickle('../data_and_results/delhi/processed_data/aq_v0.1.0.pickle').set_index('time').sort_index()\n",
    "data = data['2019-08-01':'2019-08-31']"
   ]
  },
  {
   "cell_type": "code",
   "execution_count": 50,
   "id": "3359acc5",
   "metadata": {},
   "outputs": [],
   "source": [
    "i = 0\n",
    "agg_list = []\n",
    "for loc in data.location.unique():\n",
    "    tmp_df = data[data.location==loc]\n",
    "    daily = tmp_df.resample('D').mean()\n",
    "    if daily.dropna(subset=['pm25']).shape[0] >= 30:\n",
    "        i += 1\n",
    "        daily['location'] = loc\n",
    "        agg_list.append(daily.interpolate())\n",
    "\n",
    "agg_df = pd.concat(agg_list)"
   ]
  },
  {
   "cell_type": "code",
   "execution_count": 51,
   "id": "e55c0569",
   "metadata": {},
   "outputs": [
    {
     "data": {
      "text/plain": [
       "((1022, 4), (1022, 4))"
      ]
     },
     "execution_count": 51,
     "metadata": {},
     "output_type": "execute_result"
    }
   ],
   "source": [
    "agg_df.shape, agg_df.dropna(subset=['pm25']).shape"
   ]
  },
  {
   "cell_type": "code",
   "execution_count": 52,
   "id": "ddd3d030",
   "metadata": {},
   "outputs": [],
   "source": [
    "agg_df.to_pickle('delhi.pickle')"
   ]
  },
  {
   "cell_type": "code",
   "execution_count": null,
   "id": "60a99f79",
   "metadata": {},
   "outputs": [],
   "source": []
  }
 ],
 "metadata": {
  "kernelspec": {
   "display_name": "Python 3",
   "language": "python",
   "name": "python3"
  },
  "language_info": {
   "codemirror_mode": {
    "name": "ipython",
    "version": 3
   },
   "file_extension": ".py",
   "mimetype": "text/x-python",
   "name": "python",
   "nbconvert_exporter": "python",
   "pygments_lexer": "ipython3",
   "version": "3.8.8"
  }
 },
 "nbformat": 4,
 "nbformat_minor": 5
}
