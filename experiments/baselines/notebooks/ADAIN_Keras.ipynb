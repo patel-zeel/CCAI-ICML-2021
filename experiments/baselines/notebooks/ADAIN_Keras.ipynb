{
 "cells": [
  {
   "cell_type": "markdown",
   "metadata": {},
   "source": [
    "<img src=\"https://raw.githubusercontent.com/patel-zeel/Adhoc/master/ADAIN.PNG\" alt=\"Drawing\" style=\"width: 600px;\"/>"
   ]
  },
  {
   "cell_type": "code",
   "execution_count": 1,
   "metadata": {},
   "outputs": [
    {
     "data": {
      "text/plain": [
       "'1.18.5'"
      ]
     },
     "execution_count": 1,
     "metadata": {},
     "output_type": "execute_result"
    }
   ],
   "source": [
    "# !pip install -qq numpy==1.18.5\n",
    "import pandas as pd\n",
    "import numpy as np\n",
    "import tensorflow as tf\n",
    "from tensorflow.keras.models import Model\n",
    "from tensorflow.keras.layers import Dense, LSTM, Concatenate, Lambda, Multiply, Reshape, Input, Dropout\n",
    "from tensorflow.keras.models import Sequential\n",
    "from tensorflow.keras.initializers import RandomUniform\n",
    "import tensorflow.keras.backend as K\n",
    "from sklearn.metrics import mean_squared_error\n",
    "\n",
    "# import logging\n",
    "# tf.get_logger().setLevel(logging.ERROR)\n",
    "np.__version__"
   ]
  },
  {
   "cell_type": "markdown",
   "metadata": {},
   "source": [
    "### Defining the model"
   ]
  },
  {
   "cell_type": "code",
   "execution_count": 2,
   "metadata": {},
   "outputs": [],
   "source": [
    "def ADAIN(time_window, met_dim):\n",
    "    \"\"\"\n",
    "    # Vocab\n",
    "    met         - meteorology\n",
    "    dis         - distance\n",
    "    aq          - air quality\n",
    "    n_stn       - n_stations\n",
    "    dim         - dimension\n",
    "    \"\"\"\n",
    "    # Hyperparameters\n",
    "    do = 0.5\n",
    "    \n",
    "    # Defining inputs\n",
    "    train_dist = Input(shape=(2,None,))\n",
    "    train_met_aq = Input(shape=(24,met_dim+1,None,)) # +1 for aq\n",
    "    test_met = Input(shape=(24,met_dim,))\n",
    "    \n",
    "    n_stn = 2 if train_dist.shape[2] is None else train_dist.shape[2]\n",
    "    \n",
    "    # Local station                                                        ## Input                --- Output\n",
    "    lcl_lstm = LSTM(300, dropout=do)(test_met)                             # (-1,time_window,met)  --- (-1,300)\n",
    "    lcl_dns = Dense(200, activation='relu')(lcl_lstm)                      # (-1,300)              --- (-1,200) \n",
    "    lcl_dns = Dropout(do)(lcl_dns)\n",
    "    \n",
    "    # Defininig shared layers (shared among train stations)\n",
    "    s_dns1 = Dense(100, activation='relu')\n",
    "    s_lstm = LSTM(300, activation='relu', dropout=do)\n",
    "    s_dns2 = Dense(200, activation='relu')\n",
    "    \n",
    "    a_dns1 = Dense(200, activation='relu')\n",
    "    a_dns2 = Dense(200)\n",
    "    a_dns3 = Dense(1)\n",
    "    \n",
    "    # Training stations\n",
    "    att_list = [] # Saving station attention weights\n",
    "    stn_list = [] # Saving station features\n",
    "    \n",
    "    # Iterating over train stations using shared layers\n",
    "    for s_i in range(n_stn):                                               ## Input               --- Output\n",
    "        train_dist_slice = Lambda(lambda x:x[:,:,s_i])(train_dist)         # (-1,dis,n_stn)       --- (-1,dis)\n",
    "        stn_dns1 = s_dns1(train_dist_slice)                                # (-1,dis)             --- (-1,100)\n",
    "        stn_dns1 = Dropout(do)(stn_dns1)\n",
    "        train_met_aq_slice = Lambda(lambda x:x[:,:,:,s_i])(train_met_aq)\n",
    "        stn_lstm = s_lstm(train_met_aq_slice)                              # (-1,time_window,met) --- (-1,300)\n",
    "        stn_cat1 = Concatenate()([stn_dns1, stn_lstm])                     # (-1,100)+(-1,300)    --- (-1,400)\n",
    "        stn_dns2 = s_dns2(stn_cat1)                                        # (-1,400)             --- (-1,200)\n",
    "        stn_dns2 = Dropout(do)(stn_dns2)\n",
    "        stn_list.append(stn_dns2)\n",
    "        ### Attention Mechanism\n",
    "        att_cat = Concatenate()([stn_dns2, lcl_dns])                       # (-1,200)*2           --- (-1,400)\n",
    "        att_dns1 = a_dns1(att_cat)                                         # (-1,400)             --- (-1,200)\n",
    "        att_dns1 = Dropout(do)(att_dns1)\n",
    "        att_dns2 = a_dns2(att_dns1)                                        # (-1,200)             --- (-1,200)\n",
    "        att_dns3 = a_dns3(att_dns2)                                        # (-1,200)             --- (-1,1)\n",
    "        att_list.append(att_dns3)\n",
    "    \n",
    "    ### Normalize Attention\n",
    "    att_cat1 = Concatenate()(att_list)                                     # (-1,1)*n_stn         --- (-1,n_stn)\n",
    "    att_cat2 = Lambda(lambda inp: inp/K.sum(inp, axis=0))(att_cat1)        # (-1,n_stn)           --- (-1,n_stn)\n",
    "    \n",
    "    ### Multiply Attention with station features\n",
    "    stn_cat2 = Concatenate()(stn_list)                                     # (-1,200)*n_station   --- (-1,200*n_stn) \n",
    "    stn_cat2 = Lambda(lambda x: K.reshape(x, (-1,200,n_stn)))(stn_cat2)    # (-1,200*n_stn)       --- (-1,200,n_stn)      \n",
    "    att_cat2 = Lambda(lambda x: K.reshape(x, (-1,1,n_stn)))(att_cat2)      # (-1,n_stn)           --- (-1,1,n_stn)\n",
    "#     print(stn_cat2)\n",
    "    stn_mul = Multiply()([stn_cat2, att_cat2])                             # (-1,200,n_stn)*(-1,1,n_stn)  --- (-1,200,n_stn)\n",
    "    stn_add = Lambda(lambda x: K.sum(x, axis=2))(stn_mul)                  # (-1,200,n_stn)       --- (-1,200)\n",
    "    \n",
    "    ### Concatenate local and station features\n",
    "    final_cat = Concatenate()([stn_add, lcl_dns])                          # (-1,200)*2           --- (-1,400)\n",
    "    final_dns1 = Dense(200, activation='relu')(final_cat)                  # (-1,400)             --- (-1,200)\n",
    "    final_dns1 = Dropout(do)(final_dns1)\n",
    "    final_dns2 = Dense(200)(final_dns1)\n",
    "    final_dns3 = Dense(1)(final_dns2)                                      # (-1,200)             --- (-1,1)\n",
    "    \n",
    "    model = Model(inputs=[train_dist, train_met_aq, test_met], outputs=final_dns3)\n",
    "    model.compile(loss='mean_squared_error',\n",
    "                optimizer=tf.keras.optimizers.Adam(0.001))\n",
    "    return model"
   ]
  },
  {
   "cell_type": "code",
   "execution_count": 3,
   "metadata": {},
   "outputs": [
    {
     "name": "stdout",
     "output_type": "stream",
     "text": [
      "WARNING:tensorflow:Layer lstm_1 will not use cuDNN kernel since it doesn't meet the cuDNN kernel criteria. It will use generic GPU kernel as fallback when running on GPU\n"
     ]
    }
   ],
   "source": [
    "# a = np.random.rand(123, 2, 23).astype(np.float32)\n",
    "# b = np.random.rand(123, 24, 10, 23).astype(np.float32)\n",
    "# c = np.random.rand(123, 24, 10).astype(np.float32)\n",
    "\n",
    "model = ADAIN(24, 4)"
   ]
  },
  {
   "cell_type": "markdown",
   "metadata": {},
   "source": [
    "## Fold:0"
   ]
  },
  {
   "cell_type": "code",
   "execution_count": 4,
   "metadata": {},
   "outputs": [
    {
     "data": {
      "text/plain": [
       "((7590, 2, 29), (7590, 24, 5, 29), (7590, 24, 4), (7590,))"
      ]
     },
     "execution_count": 4,
     "metadata": {},
     "output_type": "execute_result"
    }
   ],
   "source": [
    "path = '../../../data_and_results/u-air/production/pm25_beijing_best36/quadratic/data/'\n",
    "train_dst = np.load(path+'fold_0/train/adain/trn_dst.npy', allow_pickle=True).astype(np.float32)\n",
    "train_met_aq = np.load(path+'fold_0/train/adain/trn_metaq.npy').astype(np.float32)\n",
    "test_met = np.load(path+'fold_0/train/adain/tst_met.npy').astype(np.float32)\n",
    "test_aq = np.load(path+'fold_0/train/adain/tst_aqi.npy').astype(np.float32)\n",
    "train_dst.shape, train_met_aq.shape, test_met.shape, test_aq.shape"
   ]
  },
  {
   "cell_type": "code",
   "execution_count": 5,
   "metadata": {},
   "outputs": [
    {
     "name": "stdout",
     "output_type": "stream",
     "text": [
      "Epoch 1/20\n",
      "214/214 - 19s - loss: 0.4174 - val_loss: 0.1586\n",
      "Epoch 2/20\n",
      "214/214 - 18s - loss: 0.3024 - val_loss: 0.1710\n",
      "Epoch 3/20\n",
      "214/214 - 18s - loss: 0.2668 - val_loss: 0.1801\n",
      "Epoch 4/20\n",
      "214/214 - 18s - loss: 0.2369 - val_loss: 0.1145\n",
      "Epoch 5/20\n",
      "214/214 - 18s - loss: 0.2244 - val_loss: 0.1767\n",
      "Epoch 6/20\n",
      "214/214 - 18s - loss: 0.2068 - val_loss: 0.1811\n",
      "Epoch 7/20\n",
      "214/214 - 18s - loss: 0.1959 - val_loss: 0.1433\n",
      "Epoch 8/20\n",
      "214/214 - 18s - loss: 0.1974 - val_loss: 0.1849\n",
      "Epoch 9/20\n",
      "214/214 - 18s - loss: 0.1853 - val_loss: 0.1177\n",
      "Epoch 10/20\n",
      "214/214 - 18s - loss: 0.1748 - val_loss: 0.1477\n",
      "Epoch 11/20\n",
      "214/214 - 18s - loss: 0.1731 - val_loss: 0.2122\n",
      "Epoch 12/20\n",
      "214/214 - 18s - loss: 0.1620 - val_loss: 0.2455\n",
      "Epoch 13/20\n",
      "214/214 - 18s - loss: 0.1697 - val_loss: 0.1936\n",
      "Epoch 14/20\n",
      "214/214 - 18s - loss: 0.1764 - val_loss: 0.1901\n",
      "Epoch 15/20\n",
      "214/214 - 18s - loss: 0.1560 - val_loss: 0.2251\n",
      "Epoch 16/20\n",
      "214/214 - 18s - loss: 0.1401 - val_loss: 0.1534\n",
      "Epoch 17/20\n",
      "214/214 - 18s - loss: 0.1447 - val_loss: 0.1762\n",
      "Epoch 18/20\n",
      "214/214 - 18s - loss: 0.1466 - val_loss: 0.2065\n",
      "Epoch 19/20\n",
      "214/214 - 18s - loss: 0.1443 - val_loss: 0.1710\n",
      "Epoch 20/20\n",
      "214/214 - 18s - loss: 0.1485 - val_loss: 0.1494\n"
     ]
    },
    {
     "data": {
      "text/plain": [
       "<tensorflow.python.keras.callbacks.History at 0x7f533c355730>"
      ]
     },
     "execution_count": 5,
     "metadata": {},
     "output_type": "execute_result"
    }
   ],
   "source": [
    "model.fit(x=[train_dst, train_met_aq, test_met], y=test_aq, \n",
    "          batch_size=32, epochs=20, validation_split=0.1, verbose=2)"
   ]
  },
  {
   "cell_type": "code",
   "execution_count": 6,
   "metadata": {},
   "outputs": [],
   "source": [
    "preds = model.predict([train_dst, train_met_aq, test_met])"
   ]
  },
  {
   "cell_type": "markdown",
   "metadata": {},
   "source": [
    "## Plotting predictions on train"
   ]
  },
  {
   "cell_type": "code",
   "execution_count": 7,
   "metadata": {},
   "outputs": [
    {
     "data": {
      "text/plain": [
       "<matplotlib.collections.PathCollection at 0x7f52bc262ca0>"
      ]
     },
     "execution_count": 7,
     "metadata": {},
     "output_type": "execute_result"
    },
    {
     "data": {
      "image/png": "[encoded data removed]",
      "text/plain": [
       "<Figure size 432x288 with 1 Axes>"
      ]
     },
     "metadata": {
      "needs_background": "light"
     },
     "output_type": "display_data"
    }
   ],
   "source": [
    "import matplotlib.pyplot as plt\n",
    "\n",
    "plt.plot(test_aq, test_aq)\n",
    "plt.scatter(test_aq, preds)"
   ]
  },
  {
   "cell_type": "markdown",
   "metadata": {},
   "source": [
    "## Check on test"
   ]
  },
  {
   "cell_type": "code",
   "execution_count": 8,
   "metadata": {},
   "outputs": [
    {
     "data": {
      "text/plain": [
       "((253, 2, 30, 6), (253, 24, 5, 30), (253, 24, 4, 6), (253, 6))"
      ]
     },
     "execution_count": 8,
     "metadata": {},
     "output_type": "execute_result"
    }
   ],
   "source": [
    "train_dst = np.load(path+'fold_0/test/adain/trn_dst.npy', allow_pickle=True).astype(np.float32)\n",
    "train_met_aq = np.load(path+'fold_0/test/adain/trn_metaq.npy').astype(np.float32)\n",
    "test_met = np.load(path+'fold_0/test/adain/tst_met.npy').astype(np.float32)\n",
    "test_aq = np.load(path+'fold_0/test/adain/tst_aqi.npy').astype(np.float32)\n",
    "yscaler = pd.read_pickle(path+'fold_0/scaler/adain/yscaler.pickle')\n",
    "train_dst.shape, train_met_aq.shape, test_met.shape, test_aq.shape"
   ]
  },
  {
   "cell_type": "code",
   "execution_count": 9,
   "metadata": {},
   "outputs": [],
   "source": [
    "t_i = 0\n",
    "preds = model.predict([train_dst[:,:,:,t_i], train_met_aq, test_met[:,:,:,t_i]])\n",
    "tests = test_aq[:,t_i]"
   ]
  },
  {
   "cell_type": "code",
   "execution_count": 10,
   "metadata": {},
   "outputs": [
    {
     "data": {
      "text/plain": [
       "33.99343"
      ]
     },
     "execution_count": 10,
     "metadata": {},
     "output_type": "execute_result"
    }
   ],
   "source": [
    "o_preds = yscaler.inverse_transform(preds)\n",
    "o_tests = yscaler.inverse_transform(tests)\n",
    "\n",
    "mean_squared_error(o_tests, o_preds, squared=False)"
   ]
  },
  {
   "cell_type": "code",
   "execution_count": 11,
   "metadata": {},
   "outputs": [
    {
     "data": {
      "image/png": "[encoded data removed]",
      "text/plain": [
       "<Figure size 432x288 with 1 Axes>"
      ]
     },
     "metadata": {
      "needs_background": "light"
     },
     "output_type": "display_data"
    }
   ],
   "source": [
    "# plt.plot(o_tests, o_tests)\n",
    "plt.plot(o_tests, label='ground truth');\n",
    "plt.plot(o_preds, label='predictions');\n",
    "plt.xlabel('Time-stamps'); plt.ylabel('PM2.5');\n",
    "plt.legend();"
   ]
  }
 ],
 "metadata": {
  "kernelspec": {
   "display_name": "Python 3",
   "language": "python",
   "name": "python3"
  },
  "language_info": {
   "codemirror_mode": {
    "name": "ipython",
    "version": 3
   },
   "file_extension": ".py",
   "mimetype": "text/x-python",
   "name": "python",
   "nbconvert_exporter": "python",
   "pygments_lexer": "ipython3",
   "version": "3.8.5"
  }
 },
 "nbformat": 4,
 "nbformat_minor": 4
}
