{
 "cells": [
  {
   "cell_type": "code",
   "execution_count": 11,
   "metadata": {},
   "outputs": [],
   "source": [
    "import matplotlib.pyplot as plt"
   ]
  },
  {
   "cell_type": "markdown",
   "metadata": {},
   "source": [
    "## SVR"
   ]
  },
  {
   "cell_type": "code",
   "execution_count": 12,
   "metadata": {},
   "outputs": [
    {
     "name": "stdout",
     "output_type": "stream",
     "text": [
      "Overwriting ../scripts/svr.py\n"
     ]
    }
   ],
   "source": [
    "%%writefile ../scripts/svr.py\n",
    "from sklearn.model_selection import GridSearchCV\n",
    "from sklearn.svm import SVR\n",
    "import numpy as np\n",
    "import pandas as pd\n",
    "import sys\n",
    "import os\n",
    "\n",
    "C = (1, 5, 10, 20, 50)\n",
    "kernel = ('linear', 'rbf', 'sigmoid')\n",
    "param_grid = {'C':C, 'kernel':kernel}\n",
    "svr = SVR()\n",
    "\n",
    "cvmodel = GridSearchCV(svr, param_grid, refit=True, cv=5)\n",
    "\n",
    "model_name = sys.argv[0].split('/')[-1].replace('.py','')\n",
    "path = sys.argv[1]\n",
    "fold = sys.argv[2]\n",
    "f_id = sys.argv[3]\n",
    "\n",
    "trn_X = np.load(path+'data/fold_'+fold+'/train/X/'+f_id+'.npy')\n",
    "trn_y = np.load(path+'data/fold_'+fold+'/train/y/'+f_id+'.npy')\n",
    "tst_X = np.load(path+'data/fold_'+fold+'/test/X/'+f_id+'.npy')\n",
    "\n",
    "scaler = pd.read_pickle(path+'data/fold_'+fold+'/scaler/'+f_id+'.pickle')\n",
    "\n",
    "cvmodel.fit(trn_X, trn_y.ravel())\n",
    "\n",
    "pred_y = scaler.inverse_transform(cvmodel.predict(tst_X))\n",
    "\n",
    "if not os.path.exists(path+'results/'+model_name+'/fold_'+fold+'/'):\n",
    "    os.makedirs(path+'results/'+model_name+'/fold_'+fold+'/')\n",
    "\n",
    "np.save(path+'results/'+model_name+'/fold_'+fold+'/'+f_id+'.npy', pred_y)\n",
    "pd.to_pickle(cvmodel, path+'results/'+model_name+'/fold_'+fold+'/'+f_id+'.model')"
   ]
  },
  {
   "cell_type": "markdown",
   "metadata": {},
   "source": [
    "## GP - Linear"
   ]
  },
  {
   "cell_type": "code",
   "execution_count": 13,
   "metadata": {},
   "outputs": [
    {
     "name": "stdout",
     "output_type": "stream",
     "text": [
      "Overwriting ../scripts/gp_linear.py\n"
     ]
    }
   ],
   "source": [
    "%%writefile ../scripts/gp_linear.py\n",
    "from stheno import Measure, GP, Linear, Delta\n",
    "import numpy as np\n",
    "import pandas as pd\n",
    "import sys\n",
    "import os\n",
    "np.random.seed(0)\n",
    "\n",
    "\n",
    "model_name = sys.argv[0].split('/')[-1].replace('.py','')\n",
    "path = sys.argv[1]\n",
    "fold = sys.argv[2]\n",
    "f_id = sys.argv[3]\n",
    "\n",
    "trn_X = np.load(path+'data/fold_'+fold+'/train/X/'+f_id+'.npy')\n",
    "trn_y = np.load(path+'data/fold_'+fold+'/train/y/'+f_id+'.npy')\n",
    "tst_X = np.load(path+'data/fold_'+fold+'/test/X/'+f_id+'.npy')\n",
    "\n",
    "scaler = pd.read_pickle(path+'data/fold_'+fold+'/scaler/'+f_id+'.pickle')\n",
    "\n",
    "prior = Measure()                  # Construct a prior.\n",
    "f1 = GP(Linear(), measure=prior)        # Define our probabilistic model.\n",
    "f2 = GP(Delta(), measure=prior)\n",
    "f = f1+f2\n",
    "post = prior | (f(trn_X), trn_y)           # Compute the posterior distribution.\n",
    "pred = post(f).mean(tst_X).mat\n",
    "\n",
    "pred_y = scaler.inverse_transform(pred)\n",
    "\n",
    "if not os.path.exists(path+'results/'+model_name+'/fold_'+fold+'/'):\n",
    "    os.makedirs(path+'results/'+model_name+'/fold_'+fold+'/')\n",
    "\n",
    "np.save(path+'results/'+model_name+'/fold_'+fold+'/'+f_id+'.npy', pred_y)\n",
    "# pd.to_pickle(model.param_array, path+'results/'+model_name+'/fold_'+fold+'/'+f_id+'.model')"
   ]
  },
  {
   "cell_type": "markdown",
   "metadata": {},
   "source": [
    "## GP - RBF"
   ]
  },
  {
   "cell_type": "code",
   "execution_count": 17,
   "metadata": {},
   "outputs": [
    {
     "name": "stdout",
     "output_type": "stream",
     "text": [
      "Overwriting ../scripts/gp_rbf.py\n"
     ]
    }
   ],
   "source": [
    "%%writefile ../scripts/gp_rbf.py\n",
    "from stheno import Measure, GP, EQ, Delta\n",
    "import numpy as np\n",
    "import pandas as pd\n",
    "import sys\n",
    "import os\n",
    "np.random.seed(0)\n",
    "\n",
    "model_name = sys.argv[0].split('/')[-1].replace('.py','')\n",
    "path = sys.argv[1]\n",
    "fold = sys.argv[2]\n",
    "f_id = sys.argv[3]\n",
    "\n",
    "trn_X = np.load(path+'data/fold_'+fold+'/train/X/'+f_id+'.npy')\n",
    "trn_y = np.load(path+'data/fold_'+fold+'/train/y/'+f_id+'.npy')\n",
    "tst_X = np.load(path+'data/fold_'+fold+'/test/X/'+f_id+'.npy')\n",
    "\n",
    "scaler = pd.read_pickle(path+'data/fold_'+fold+'/scaler/'+f_id+'.pickle')\n",
    "\n",
    "prior = Measure()                  # Construct a prior.\n",
    "f1 = GP(EQ(), measure=prior)        # Define our probabilistic model.\n",
    "f2 = GP(Delta(), measure=prior)\n",
    "f = f1+f2\n",
    "post = prior | (f(trn_X), trn_y)           # Compute the posterior distribution.\n",
    "pred = post(f).mean(tst_X).mat\n",
    "\n",
    "pred_y = scaler.inverse_transform(pred)\n",
    "\n",
    "if not os.path.exists(path+'results/'+model_name+'/fold_'+fold+'/'):\n",
    "    os.makedirs(path+'results/'+model_name+'/fold_'+fold+'/')\n",
    "\n",
    "np.save(path+'results/'+model_name+'/fold_'+fold+'/'+f_id+'.npy', pred_y)\n",
    "# pd.to_pickle(model.param_array, path+'results/'+model_name+'/fold_'+fold+'/'+f_id+'.model')"
   ]
  },
  {
   "cell_type": "markdown",
   "metadata": {},
   "source": [
    "## GP - Matern12"
   ]
  },
  {
   "cell_type": "code",
   "execution_count": 18,
   "metadata": {},
   "outputs": [
    {
     "name": "stdout",
     "output_type": "stream",
     "text": [
      "Overwriting ../scripts/gp_m12.py\n"
     ]
    }
   ],
   "source": [
    "%%writefile ../scripts/gp_m12.py\n",
    "from stheno import Measure, GP, Matern12, Delta\n",
    "import numpy as np\n",
    "import pandas as pd\n",
    "import sys\n",
    "import os\n",
    "np.random.seed(0)\n",
    "\n",
    "model_name = sys.argv[0].split('/')[-1].replace('.py','')\n",
    "path = sys.argv[1]\n",
    "fold = sys.argv[2]\n",
    "f_id = sys.argv[3]\n",
    "\n",
    "trn_X = np.load(path+'data/fold_'+fold+'/train/X/'+f_id+'.npy')\n",
    "trn_y = np.load(path+'data/fold_'+fold+'/train/y/'+f_id+'.npy')\n",
    "tst_X = np.load(path+'data/fold_'+fold+'/test/X/'+f_id+'.npy')\n",
    "\n",
    "scaler = pd.read_pickle(path+'data/fold_'+fold+'/scaler/'+f_id+'.pickle')\n",
    "\n",
    "prior = Measure()                  # Construct a prior.\n",
    "f1 = GP(Matern12(), measure=prior)        # Define our probabilistic model.\n",
    "f2 = GP(Delta(), measure=prior)\n",
    "f = f1+f2\n",
    "post = prior | (f(trn_X), trn_y)           # Compute the posterior distribution.\n",
    "pred = post(f).mean(tst_X).mat\n",
    "\n",
    "pred_y = scaler.inverse_transform(pred)\n",
    "\n",
    "if not os.path.exists(path+'results/'+model_name+'/fold_'+fold+'/'):\n",
    "    os.makedirs(path+'results/'+model_name+'/fold_'+fold+'/')\n",
    "\n",
    "np.save(path+'results/'+model_name+'/fold_'+fold+'/'+f_id+'.npy', pred_y)\n",
    "# pd.to_pickle(model.param_array, path+'results/'+model_name+'/fold_'+fold+'/'+f_id+'.model')"
   ]
  },
  {
   "cell_type": "markdown",
   "metadata": {},
   "source": [
    "## GP - Matern32"
   ]
  },
  {
   "cell_type": "code",
   "execution_count": 19,
   "metadata": {},
   "outputs": [
    {
     "name": "stdout",
     "output_type": "stream",
     "text": [
      "Overwriting ../scripts/gp_m32.py\n"
     ]
    }
   ],
   "source": [
    "%%writefile ../scripts/gp_m32.py\n",
    "from stheno import Measure, GP, Matern32, Delta\n",
    "import numpy as np\n",
    "import pandas as pd\n",
    "import sys\n",
    "import os\n",
    "np.random.seed(0)\n",
    "\n",
    "model_name = sys.argv[0].split('/')[-1].replace('.py','')\n",
    "path = sys.argv[1]\n",
    "fold = sys.argv[2]\n",
    "f_id = sys.argv[3]\n",
    "\n",
    "trn_X = np.load(path+'data/fold_'+fold+'/train/X/'+f_id+'.npy')\n",
    "trn_y = np.load(path+'data/fold_'+fold+'/train/y/'+f_id+'.npy')\n",
    "tst_X = np.load(path+'data/fold_'+fold+'/test/X/'+f_id+'.npy')\n",
    "\n",
    "scaler = pd.read_pickle(path+'data/fold_'+fold+'/scaler/'+f_id+'.pickle')\n",
    "\n",
    "prior = Measure()                  # Construct a prior.\n",
    "f1 = GP(Matern32(), measure=prior)        # Define our probabilistic model.\n",
    "f2 = GP(Delta(), measure=prior)\n",
    "f = f1+f2\n",
    "post = prior | (f(trn_X), trn_y)           # Compute the posterior distribution.\n",
    "pred = post(f).mean(tst_X).mat\n",
    "\n",
    "pred_y = scaler.inverse_transform(pred)\n",
    "\n",
    "if not os.path.exists(path+'results/'+model_name+'/fold_'+fold+'/'):\n",
    "    os.makedirs(path+'results/'+model_name+'/fold_'+fold+'/')\n",
    "\n",
    "np.save(path+'results/'+model_name+'/fold_'+fold+'/'+f_id+'.npy', pred_y)\n",
    "# pd.to_pickle(model.param_array, path+'results/'+model_name+'/fold_'+fold+'/'+f_id+'.model')"
   ]
  },
  {
   "cell_type": "markdown",
   "metadata": {},
   "source": [
    "### NSGP"
   ]
  },
  {
   "cell_type": "code",
   "execution_count": 28,
   "metadata": {},
   "outputs": [
    {
     "name": "stdout",
     "output_type": "stream",
     "text": [
      "Overwriting ../scripts/nsgp_rbf.py\n"
     ]
    }
   ],
   "source": [
    "%%writefile ../scripts/nsgp_rbf.py\n",
    "from NSGPy.NumPy import LLS\n",
    "import numpy as np\n",
    "import pandas as pd\n",
    "import sys\n",
    "import os\n",
    "np.random.seed(0)\n",
    "\n",
    "model_name = sys.argv[0].split('/')[-1].replace('.py','')\n",
    "path = sys.argv[1]\n",
    "fold = sys.argv[2]\n",
    "f_id = sys.argv[3]\n",
    "\n",
    "trn_X = np.load(path+'data/fold_'+fold+'/train/X/'+f_id+'.npy')\n",
    "trn_y = np.load(path+'data/fold_'+fold+'/train/y/'+f_id+'.npy')\n",
    "tst_X = np.load(path+'data/fold_'+fold+'/test/X/'+f_id+'.npy')\n",
    "\n",
    "scaler = pd.read_pickle(path+'data/fold_'+fold+'/scaler/'+f_id+'.pickle')\n",
    "\n",
    "model = LLS(trn_X.shape[1], N_l_bar=3)\n",
    "model.fit(trn_X, trn_y, n_restarts=10)\n",
    "\n",
    "pred_y = scaler.inverse_transform(model.predict(tst_X)[0])\n",
    "\n",
    "if not os.path.exists(path+'results/'+model_name+'/fold_'+fold+'/'):\n",
    "    os.makedirs(path+'results/'+model_name+'/fold_'+fold+'/')\n",
    "\n",
    "np.save(path+'results/'+model_name+'/fold_'+fold+'/'+f_id+'.npy', pred_y)\n",
    "# pd.to_pickle(model.param_array, path+'results/'+model_name+'/fold_'+fold+'/'+f_id+'.model')"
   ]
  }
 ],
 "metadata": {
  "kernelspec": {
   "display_name": "Python 3",
   "language": "python",
   "name": "python3"
  },
  "language_info": {
   "codemirror_mode": {
    "name": "ipython",
    "version": 3
   },
   "file_extension": ".py",
   "mimetype": "text/x-python",
   "name": "python",
   "nbconvert_exporter": "python",
   "pygments_lexer": "ipython3",
   "version": "3.8.5"
  }
 },
 "nbformat": 4,
 "nbformat_minor": 4
}
