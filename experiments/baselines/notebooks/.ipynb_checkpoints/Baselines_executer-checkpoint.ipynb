{
 "cells": [
  {
   "cell_type": "code",
   "execution_count": 12,
   "metadata": {},
   "outputs": [],
   "source": [
    "from multiprocessing import Pool\n",
    "from glob import glob\n",
    "import os\n",
    "from time import time"
   ]
  },
  {
   "cell_type": "markdown",
   "metadata": {},
   "source": [
    "## Global config"
   ]
  },
  {
   "cell_type": "code",
   "execution_count": 13,
   "metadata": {
    "scrolled": true
   },
   "outputs": [],
   "source": [
    "data_path = '/home/patel_zeel/CCAI-ICML-2021/data_and_results/u-air/production/pm25_beijing_best36/quadratic/'\n",
    "scipt_path = '/home/patel_zeel/CCAI-ICML-2021/experiments/baselines/scripts/'\n",
    "f_ids = [str(i).zfill(5) for i in range(277)]\n",
    "folds = [str(i) for i in range(6)]"
   ]
  },
  {
   "cell_type": "code",
   "execution_count": 28,
   "metadata": {},
   "outputs": [],
   "source": [
    "def job(command):\n",
    "        os.system(command)\n",
    "\n",
    "def run_script(script_name):\n",
    "    commands = []\n",
    "\n",
    "    for fold in folds:\n",
    "        for f_id in f_ids:\n",
    "            commands.append('python '+scipt_path+script_name+'.py '+data_path+' '+fold+' '+f_id)\n",
    "\n",
    "#     print(commands[0])\n",
    "    workers = Pool()\n",
    "    init = time()\n",
    "    workers.map(job, commands)\n",
    "    print(script_name, 'finished in',round((time()-init)/60, 3),'minutes')\n",
    "    workers.terminate()"
   ]
  },
  {
   "cell_type": "markdown",
   "metadata": {},
   "source": [
    "### SVR"
   ]
  },
  {
   "cell_type": "code",
   "execution_count": 4,
   "metadata": {},
   "outputs": [
    {
     "name": "stdout",
     "output_type": "stream",
     "text": [
      "svr finished in 2.484 minutes\n"
     ]
    }
   ],
   "source": [
    "run_script('svr')"
   ]
  },
  {
   "cell_type": "markdown",
   "metadata": {},
   "source": [
    "### GP"
   ]
  },
  {
   "cell_type": "code",
   "execution_count": 5,
   "metadata": {},
   "outputs": [
    {
     "name": "stdout",
     "output_type": "stream",
     "text": [
      "gp_rbf finished in 4.599 minutes\n",
      "gp_linear finished in 3.75 minutes\n",
      "gp_m32 finished in 4.599 minutes\n",
      "gp_m12 finished in 4.592 minutes\n"
     ]
    }
   ],
   "source": [
    "run_script('gp_rbf')\n",
    "run_script('gp_linear')\n",
    "run_script('gp_m32')\n",
    "run_script('gp_m12')"
   ]
  },
  {
   "cell_type": "markdown",
   "metadata": {},
   "source": [
    "### NSGP"
   ]
  },
  {
   "cell_type": "code",
   "execution_count": 29,
   "metadata": {},
   "outputs": [
    {
     "name": "stdout",
     "output_type": "stream",
     "text": [
      "nsgp_rbf finished in 24.373 minutes\n"
     ]
    }
   ],
   "source": [
    "run_script('nsgp_rbf')"
   ]
  }
 ],
 "metadata": {
  "kernelspec": {
   "display_name": "Python 3",
   "language": "python",
   "name": "python3"
  },
  "language_info": {
   "codemirror_mode": {
    "name": "ipython",
    "version": 3
   },
   "file_extension": ".py",
   "mimetype": "text/x-python",
   "name": "python",
   "nbconvert_exporter": "python",
   "pygments_lexer": "ipython3",
   "version": "3.8.5"
  }
 },
 "nbformat": 4,
 "nbformat_minor": 4
}
