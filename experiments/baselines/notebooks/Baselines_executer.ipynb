{
 "cells": [
  {
   "cell_type": "code",
   "execution_count": 30,
   "metadata": {},
   "outputs": [],
   "source": [
    "from multiprocessing import Pool\n",
    "from glob import glob\n",
    "import os\n",
    "from time import time"
   ]
  },
  {
   "cell_type": "markdown",
   "metadata": {},
   "source": [
    "## Global config"
   ]
  },
  {
   "cell_type": "code",
   "execution_count": 31,
   "metadata": {
    "scrolled": true
   },
   "outputs": [],
   "source": [
    "data_path = '/home/patel_zeel/CCAI-ICML-2021/data_and_results/u-air/production/pm25_beijing_best36/linear/'\n",
    "scipt_path = '/home/patel_zeel/CCAI-ICML-2021/experiments/baselines/scripts/'\n",
    "f_ids = [str(i).zfill(5) for i in range(277)]\n",
    "folds = [str(i) for i in range(6)]"
   ]
  },
  {
   "cell_type": "code",
   "execution_count": 32,
   "metadata": {},
   "outputs": [],
   "source": [
    "def job(command):\n",
    "        os.system(command)\n",
    "\n",
    "def trial_command(script_name):\n",
    "    print('python '+scipt_path+script_name+'.py '+data_path+' 0 00000')\n",
    "\n",
    "def run_script(script_name):\n",
    "    commands = []\n",
    "\n",
    "    for fold in folds:\n",
    "        for f_id in f_ids:\n",
    "            commands.append('python '+scipt_path+script_name+'.py '+data_path+' '+fold+' '+f_id)\n",
    "\n",
    "    workers = Pool(24)\n",
    "    init = time()\n",
    "    workers.map(job, commands)\n",
    "    print(script_name, 'finished in',round((time()-init)/60, 3),'minutes')\n",
    "    workers.terminate()"
   ]
  },
  {
   "cell_type": "markdown",
   "metadata": {},
   "source": [
    "### GP"
   ]
  },
  {
   "cell_type": "code",
   "execution_count": 13,
   "metadata": {},
   "outputs": [
    {
     "name": "stdout",
     "output_type": "stream",
     "text": [
      "gp_rbf_gpy finished in 4.701 minutes\n",
      "gp_linear finished in 4.563 minutes\n",
      "gp_m32 finished in 4.838 minutes\n",
      "gp_m12 finished in 4.747 minutes\n",
      "gp_combo finished in 8.004 minutes\n"
     ]
    }
   ],
   "source": [
    "# run_script('gp_rbf')\n",
    "\n",
    "run_script('gp_rbf_gpy')\n",
    "# run_script('gp_fi')\n",
    "run_script('gp_linear')\n",
    "run_script('gp_m32')\n",
    "run_script('gp_m12')\n",
    "run_script('gp_combo')\n",
    "\n",
    "# run_script('gp_rq')\n",
    "# trial_command('gp_rbf_gpytorch')\n",
    "# run_script('gp_rbf_gpflow')\n",
    "# run_script('gp_rbf_gpytorch')\n",
    "# run_script('gp_rbf_torch')\n",
    "\n",
    "# trial_command('gp_rbf_gpy')\n",
    "# !python /home/patel_zeel/CCAI-ICML-2021/experiments/baselines/scripts/gp_combo.py /home/patel_zeel/CCAI-ICML-2021/data_and_results/u-air/production/pm25_beijing_best36/linear/ 1 00000"
   ]
  },
  {
   "cell_type": "markdown",
   "metadata": {},
   "source": [
    "### NSGP"
   ]
  },
  {
   "cell_type": "markdown",
   "metadata": {},
   "source": [
    "### To do\n",
    "* Check NN baseline result by changing to paper's config.\n",
    "* Tell NSGP problem to sir\n",
    "* "
   ]
  },
  {
   "cell_type": "code",
   "execution_count": 29,
   "metadata": {},
   "outputs": [
    {
     "name": "stdout",
     "output_type": "stream",
     "text": [
      "nsgp_rbf_lsq finished in 20.831 minutes\n"
     ]
    }
   ],
   "source": [
    "run_script('nsgp_rbf_lsq')\n",
    "# !python /home/patel_zeel/CCAI-ICML-2021/experiments/baselines/scripts/nsgp_rbf_lsq.py /home/patel_zeel/CCAI-ICML-2021/data_and_results/u-air/production/pm25_beijing_best36/linear/ 0 00000"
   ]
  },
  {
   "cell_type": "code",
   "execution_count": 5,
   "metadata": {},
   "outputs": [],
   "source": [
    "# run_script('nsgp_m12')"
   ]
  },
  {
   "cell_type": "code",
   "execution_count": 38,
   "metadata": {},
   "outputs": [
    {
     "name": "stdout",
     "output_type": "stream",
     "text": [
      "nsgp_rbf finished in 110.987 minutes\n"
     ]
    }
   ],
   "source": [
    "run_script('nsgp_rbf')\n",
    "# !python /home/patel_zeel/CCAI-ICML-2021/experiments/baselines/scripts/nsgp_rbf.py /home/patel_zeel/CCAI-ICML-2021/data_and_results/u-air/production/pm25_beijing_best36/linear/ 0 00000"
   ]
  },
  {
   "cell_type": "code",
   "execution_count": null,
   "metadata": {},
   "outputs": [],
   "source": [
    "run_script('nsgp_m12')"
   ]
  },
  {
   "cell_type": "code",
   "execution_count": 16,
   "metadata": {},
   "outputs": [],
   "source": [
    "# run_script('nsgp_rbf_extra')\n",
    "# !python /home/patel_zeel/CCAI-ICML-2021/experiments/baselines/scripts/nsgp_rbf_emp.py /home/patel_zeel/CCAI-ICML-2021/data_and_results/u-air/production/pm25_beijing_best36/linear/ 1 00000"
   ]
  },
  {
   "cell_type": "code",
   "execution_count": 8,
   "metadata": {},
   "outputs": [
    {
     "name": "stdout",
     "output_type": "stream",
     "text": [
      "nsgp_rbf_emp finished in 121.51 minutes\n"
     ]
    }
   ],
   "source": [
    "run_script('nsgp_rbf_emp')"
   ]
  },
  {
   "cell_type": "code",
   "execution_count": 7,
   "metadata": {},
   "outputs": [
    {
     "name": "stdout",
     "output_type": "stream",
     "text": [
      "nsgp_rbf_lsq finished in 3.584 minutes\n"
     ]
    }
   ],
   "source": [
    "run_script('nsgp_rbf_lsq')"
   ]
  },
  {
   "cell_type": "markdown",
   "metadata": {},
   "source": [
    "### SVR"
   ]
  },
  {
   "cell_type": "code",
   "execution_count": 4,
   "metadata": {},
   "outputs": [
    {
     "name": "stdout",
     "output_type": "stream",
     "text": [
      "svr finished in 2.598 minutes\n"
     ]
    }
   ],
   "source": [
    "# trial_command('svr')\n",
    "run_script('svr')\n",
    "# !python /home/patel_zeel/CCAI-ICML-2021/experiments/baselines/scripts/svr.py /home/patel_zeel/CCAI-ICML-2021/data_and_results/u-air/production/pm25_beijing_best36/quadratic/ 0 00000"
   ]
  },
  {
   "cell_type": "markdown",
   "metadata": {},
   "source": [
    "### Decision tree"
   ]
  },
  {
   "cell_type": "code",
   "execution_count": 5,
   "metadata": {
    "scrolled": true
   },
   "outputs": [
    {
     "name": "stdout",
     "output_type": "stream",
     "text": [
      "dt finished in 2.793 minutes\n"
     ]
    }
   ],
   "source": [
    "run_script('dt')"
   ]
  },
  {
   "cell_type": "markdown",
   "metadata": {},
   "source": [
    "### Elastic net"
   ]
  },
  {
   "cell_type": "code",
   "execution_count": 6,
   "metadata": {},
   "outputs": [
    {
     "name": "stdout",
     "output_type": "stream",
     "text": [
      "elst finished in 2.724 minutes\n"
     ]
    }
   ],
   "source": [
    "run_script('elst')"
   ]
  },
  {
   "cell_type": "markdown",
   "metadata": {},
   "source": [
    "### Deep Kernel Learning"
   ]
  },
  {
   "cell_type": "code",
   "execution_count": 8,
   "metadata": {},
   "outputs": [
    {
     "name": "stdout",
     "output_type": "stream",
     "text": [
      "dkl finished in 4.249 minutes\n"
     ]
    }
   ],
   "source": [
    "# trial_command('dkl')\n",
    "run_script('dkl')\n",
    "# !python /home/patel_zeel/CCAI-ICML-2021/experiments/baselines/scripts/dkl.py /home/patel_zeel/CCAI-ICML-2021/data_and_results/u-air/production/pm25_beijing_best36/quadratic/ 0 00000"
   ]
  },
  {
   "cell_type": "markdown",
   "metadata": {},
   "source": [
    "### Spectral mixture"
   ]
  },
  {
   "cell_type": "code",
   "execution_count": 12,
   "metadata": {},
   "outputs": [],
   "source": [
    "# run_script('gp_sm_gpytorch')\n",
    "# !python /home/patel_zeel/CCAI-ICML-2021/experiments/baselines/scripts/gp_sm_gpytorch.py /home/patel_zeel/CCAI-ICML-2021/data_and_results/u-air/production/pm25_beijing_best36/linear/ 1 00000"
   ]
  },
  {
   "cell_type": "markdown",
   "metadata": {},
   "source": [
    "### Random Forest"
   ]
  },
  {
   "cell_type": "code",
   "execution_count": 13,
   "metadata": {
    "scrolled": true
   },
   "outputs": [
    {
     "name": "stdout",
     "output_type": "stream",
     "text": [
      "rf finished in 21.364 minutes\n"
     ]
    }
   ],
   "source": [
    "# trial_command('rf')\n",
    "run_script('rf')"
   ]
  },
  {
   "cell_type": "markdown",
   "metadata": {},
   "source": [
    "### MLP"
   ]
  },
  {
   "cell_type": "code",
   "execution_count": 14,
   "metadata": {},
   "outputs": [
    {
     "name": "stdout",
     "output_type": "stream",
     "text": [
      "mlp finished in 3.336 minutes\n"
     ]
    }
   ],
   "source": [
    "run_script('mlp')\n",
    "# !python /home/patel_zeel/CCAI-ICML-2021/experiments/baselines/scripts/mlp.py /home/patel_zeel/CCAI-ICML-2021/data_and_results/u-air/production/pm25_beijing_best36/linear/ 1 00001"
   ]
  }
 ],
 "metadata": {
  "kernelspec": {
   "display_name": "Python 3",
   "language": "python",
   "name": "python3"
  },
  "language_info": {
   "codemirror_mode": {
    "name": "ipython",
    "version": 3
   },
   "file_extension": ".py",
   "mimetype": "text/x-python",
   "name": "python",
   "nbconvert_exporter": "python",
   "pygments_lexer": "ipython3",
   "version": "3.8.8"
  }
 },
 "nbformat": 4,
 "nbformat_minor": 4
}
